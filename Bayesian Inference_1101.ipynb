{
 "cells": [
  {
   "cell_type": "code",
   "execution_count": 1,
   "id": "1407e3a8",
   "metadata": {},
   "outputs": [],
   "source": [
    "import pandas as pd\n",
    "import numpy as np\n",
    "import matplotlib.pyplot as plt\n",
    "import seaborn as sns"
   ]
  },
  {
   "cell_type": "markdown",
   "id": "8216e7f4-9e6e-4584-a3b6-db4e53569973",
   "metadata": {},
   "source": [
    "## 1. bayseian modeling\n",
    "binominal distribution\n",
    "nomal distribution"
   ]
  },
  {
   "cell_type": "code",
   "execution_count": 2,
   "id": "a07b5fae",
   "metadata": {},
   "outputs": [],
   "source": [
    "import stan"
   ]
  },
  {
   "cell_type": "code",
   "execution_count": 3,
   "id": "f8fa2f92",
   "metadata": {},
   "outputs": [],
   "source": [
    "import nest_asyncio #this library is important to use pystan\n",
    "\n",
    "nest_asyncio.apply()"
   ]
  },
  {
   "cell_type": "code",
   "execution_count": 4,
   "id": "489845cd-d832-44d1-a887-d633779f6dd1",
   "metadata": {},
   "outputs": [],
   "source": [
    "import pandas as pd\n",
    "import csv"
   ]
  },
  {
   "cell_type": "code",
   "execution_count": 5,
   "id": "20f6492c",
   "metadata": {},
   "outputs": [],
   "source": [
    "import scipy.stats as stats"
   ]
  },
  {
   "cell_type": "code",
   "execution_count": 6,
   "id": "9b14a05c-69b2-41a9-bb76-de50c98ba99d",
   "metadata": {},
   "outputs": [],
   "source": [
    "## import data\n",
    "\n",
    "df = pd.read_csv('./db/MoviesData.csv')"
   ]
  },
  {
   "cell_type": "code",
   "execution_count": 7,
   "id": "9aae4201-2ab7-4448-a24f-5776d0804f9b",
   "metadata": {},
   "outputs": [
    {
     "name": "stdout",
     "output_type": "stream",
     "text": [
      "<class 'pandas.core.frame.DataFrame'>\n",
      "RangeIndex: 36 entries, 0 to 35\n",
      "Data columns (total 7 columns):\n",
      " #   Column   Non-Null Count  Dtype \n",
      "---  ------   --------------  ----- \n",
      " 0   ID       36 non-null     int64 \n",
      " 1   Descrip  36 non-null     object\n",
      " 2   n1       36 non-null     int64 \n",
      " 3   n2       36 non-null     int64 \n",
      " 4   n3       36 non-null     int64 \n",
      " 5   n4       36 non-null     int64 \n",
      " 6   n5       36 non-null     int64 \n",
      "dtypes: int64(6), object(1)\n",
      "memory usage: 2.1+ KB\n"
     ]
    }
   ],
   "source": [
    "df.info()"
   ]
  },
  {
   "cell_type": "code",
   "execution_count": 8,
   "id": "356b7453-50ec-49bb-9c42-66027b90c9b2",
   "metadata": {},
   "outputs": [],
   "source": [
    "selected_rows = df.loc[[9, 15]]\n",
    "selected_rows_2 = df.loc[[5, 12]]"
   ]
  },
  {
   "cell_type": "code",
   "execution_count": 9,
   "id": "7f87268c-91f7-4571-8ba8-5272b59c25d8",
   "metadata": {},
   "outputs": [],
   "source": [
    "new_df = pd.DataFrame(selected_rows).reset_index(drop=True)\n",
    "new_df_2 = pd.DataFrame(selected_rows_2).reset_index(drop=True)"
   ]
  },
  {
   "cell_type": "code",
   "execution_count": 10,
   "id": "b5ad8c7e-1ae0-4e8d-97bb-cebc56554412",
   "metadata": {},
   "outputs": [
    {
     "data": {
      "text/html": [
       "<div>\n",
       "<style scoped>\n",
       "    .dataframe tbody tr th:only-of-type {\n",
       "        vertical-align: middle;\n",
       "    }\n",
       "\n",
       "    .dataframe tbody tr th {\n",
       "        vertical-align: top;\n",
       "    }\n",
       "\n",
       "    .dataframe thead th {\n",
       "        text-align: right;\n",
       "    }\n",
       "</style>\n",
       "<table border=\"1\" class=\"dataframe\">\n",
       "  <thead>\n",
       "    <tr style=\"text-align: right;\">\n",
       "      <th></th>\n",
       "      <th>ID</th>\n",
       "      <th>Descrip</th>\n",
       "      <th>n1</th>\n",
       "      <th>n2</th>\n",
       "      <th>n3</th>\n",
       "      <th>n4</th>\n",
       "      <th>n5</th>\n",
       "    </tr>\n",
       "  </thead>\n",
       "  <tbody>\n",
       "    <tr>\n",
       "      <th>0</th>\n",
       "      <td>10</td>\n",
       "      <td>The Only Living Boy in New York</td>\n",
       "      <td>35</td>\n",
       "      <td>41</td>\n",
       "      <td>41</td>\n",
       "      <td>88</td>\n",
       "      <td>382</td>\n",
       "    </tr>\n",
       "    <tr>\n",
       "      <th>1</th>\n",
       "      <td>16</td>\n",
       "      <td>Taking Chance</td>\n",
       "      <td>58</td>\n",
       "      <td>0</td>\n",
       "      <td>116</td>\n",
       "      <td>637</td>\n",
       "      <td>4982</td>\n",
       "    </tr>\n",
       "  </tbody>\n",
       "</table>\n",
       "</div>"
      ],
      "text/plain": [
       "   ID                          Descrip  n1  n2   n3   n4    n5\n",
       "0  10  The Only Living Boy in New York  35  41   41   88   382\n",
       "1  16                    Taking Chance  58   0  116  637  4982"
      ]
     },
     "execution_count": 10,
     "metadata": {},
     "output_type": "execute_result"
    }
   ],
   "source": [
    "new_df.head()"
   ]
  },
  {
   "cell_type": "code",
   "execution_count": 11,
   "id": "279817b4-af3a-4c02-92b0-b33bcd5dc966",
   "metadata": {},
   "outputs": [
    {
     "data": {
      "text/html": [
       "<div>\n",
       "<style scoped>\n",
       "    .dataframe tbody tr th:only-of-type {\n",
       "        vertical-align: middle;\n",
       "    }\n",
       "\n",
       "    .dataframe tbody tr th {\n",
       "        vertical-align: top;\n",
       "    }\n",
       "\n",
       "    .dataframe thead th {\n",
       "        text-align: right;\n",
       "    }\n",
       "</style>\n",
       "<table border=\"1\" class=\"dataframe\">\n",
       "  <thead>\n",
       "    <tr style=\"text-align: right;\">\n",
       "      <th></th>\n",
       "      <th>0</th>\n",
       "      <th>1</th>\n",
       "    </tr>\n",
       "  </thead>\n",
       "  <tbody>\n",
       "    <tr>\n",
       "      <th>ID</th>\n",
       "      <td>6</td>\n",
       "      <td>13</td>\n",
       "    </tr>\n",
       "    <tr>\n",
       "      <th>Descrip</th>\n",
       "      <td>Room</td>\n",
       "      <td>The Curious Case of Benjamin Button</td>\n",
       "    </tr>\n",
       "    <tr>\n",
       "      <th>n1</th>\n",
       "      <td>278</td>\n",
       "      <td>78</td>\n",
       "    </tr>\n",
       "    <tr>\n",
       "      <th>n2</th>\n",
       "      <td>278</td>\n",
       "      <td>52</td>\n",
       "    </tr>\n",
       "    <tr>\n",
       "      <th>n3</th>\n",
       "      <td>973</td>\n",
       "      <td>78</td>\n",
       "    </tr>\n",
       "  </tbody>\n",
       "</table>\n",
       "</div>"
      ],
      "text/plain": [
       "            0                                    1\n",
       "ID          6                                   13\n",
       "Descrip  Room  The Curious Case of Benjamin Button\n",
       "n1        278                                   78\n",
       "n2        278                                   52\n",
       "n3        973                                   78"
      ]
     },
     "execution_count": 11,
     "metadata": {},
     "output_type": "execute_result"
    }
   ],
   "source": [
    "new_df_2.T.head()"
   ]
  },
  {
   "cell_type": "code",
   "execution_count": 12,
   "id": "04e271ac-288c-4e73-9806-b9e9c74336bc",
   "metadata": {},
   "outputs": [],
   "source": [
    "# Turn 'ID' into a categorical variable\n",
    "new_df['ID'] = new_df['ID'].astype('category')"
   ]
  },
  {
   "cell_type": "code",
   "execution_count": 13,
   "id": "da52b78b-0ad1-4f4b-9fe6-bb153b226825",
   "metadata": {},
   "outputs": [
    {
     "data": {
      "text/html": [
       "<div>\n",
       "<style scoped>\n",
       "    .dataframe tbody tr th:only-of-type {\n",
       "        vertical-align: middle;\n",
       "    }\n",
       "\n",
       "    .dataframe tbody tr th {\n",
       "        vertical-align: top;\n",
       "    }\n",
       "\n",
       "    .dataframe thead th {\n",
       "        text-align: right;\n",
       "    }\n",
       "</style>\n",
       "<table border=\"1\" class=\"dataframe\">\n",
       "  <thead>\n",
       "    <tr style=\"text-align: right;\">\n",
       "      <th></th>\n",
       "      <th>ID</th>\n",
       "      <th>Descrip</th>\n",
       "      <th>n1</th>\n",
       "      <th>n2</th>\n",
       "      <th>n3</th>\n",
       "      <th>n4</th>\n",
       "      <th>n5</th>\n",
       "    </tr>\n",
       "  </thead>\n",
       "  <tbody>\n",
       "    <tr>\n",
       "      <th>0</th>\n",
       "      <td>10</td>\n",
       "      <td>The Only Living Boy in New York</td>\n",
       "      <td>35</td>\n",
       "      <td>41</td>\n",
       "      <td>41</td>\n",
       "      <td>88</td>\n",
       "      <td>382</td>\n",
       "    </tr>\n",
       "    <tr>\n",
       "      <th>1</th>\n",
       "      <td>16</td>\n",
       "      <td>Taking Chance</td>\n",
       "      <td>58</td>\n",
       "      <td>0</td>\n",
       "      <td>116</td>\n",
       "      <td>637</td>\n",
       "      <td>4982</td>\n",
       "    </tr>\n",
       "  </tbody>\n",
       "</table>\n",
       "</div>"
      ],
      "text/plain": [
       "   ID                          Descrip  n1  n2   n3   n4    n5\n",
       "0  10  The Only Living Boy in New York  35  41   41   88   382\n",
       "1  16                    Taking Chance  58   0  116  637  4982"
      ]
     },
     "execution_count": 13,
     "metadata": {},
     "output_type": "execute_result"
    }
   ],
   "source": [
    "new_df"
   ]
  },
  {
   "cell_type": "code",
   "execution_count": 10,
   "id": "40345918-5dd9-4247-86d2-8a7ac4ded838",
   "metadata": {},
   "outputs": [],
   "source": [
    "# print(df.loc[:, 'Outcome'].values)"
   ]
  },
  {
   "cell_type": "code",
   "execution_count": 29,
   "id": "678f1f88-24f4-4168-a47a-0ad3a00c8e9f",
   "metadata": {},
   "outputs": [
    {
     "data": {
      "text/plain": [
       "<Axes: xlabel='Pregnancies', ylabel='Glucose'>"
      ]
     },
     "execution_count": 29,
     "metadata": {},
     "output_type": "execute_result"
    },
    {
     "data": {
      "image/png": "[encoded data removed]",
      "text/plain": [
       "<Figure size 640x480 with 1 Axes>"
      ]
     },
     "metadata": {},
     "output_type": "display_data"
    }
   ],
   "source": [
    "df.plot.scatter(x=\"Pregnancies\", y=\"Glucose\", alpha=0.5)"
   ]
  },
  {
   "cell_type": "code",
   "execution_count": 12,
   "id": "05892e9e-0805-490d-b874-d9fcb8454f78",
   "metadata": {},
   "outputs": [
    {
     "data": {
      "text/plain": [
       "768"
      ]
     },
     "execution_count": 12,
     "metadata": {},
     "output_type": "execute_result"
    }
   ],
   "source": [
    "len(df)"
   ]
  },
  {
   "cell_type": "code",
   "execution_count": 49,
   "id": "12d315ce-9dc1-47f5-9cfa-45b7d6441f72",
   "metadata": {},
   "outputs": [],
   "source": [
    "method = np.concatenate([df[\"BloodPressure\"], df[\"BMI\"]])\n",
    "outcome = np.concatenate([df[\"Outcome\"], df[\"Outcome\"]])"
   ]
  },
  {
   "cell_type": "code",
   "execution_count": 47,
   "id": "02952d45-1dfe-4425-8dc8-2fd304fd96cf",
   "metadata": {},
   "outputs": [
    {
     "name": "stdout",
     "output_type": "stream",
     "text": [
      "1536\n"
     ]
    }
   ],
   "source": [
    "print(len(method))"
   ]
  },
  {
   "cell_type": "code",
   "execution_count": 14,
   "id": "89ae2d60-532d-420a-b935-652e8c663c2c",
   "metadata": {},
   "outputs": [],
   "source": [
    "## hypothesis setting\n",
    "### H1. BloodPressure leads to diabetes\n",
    "### H0. BMI is more effective to diabetes\n",
    "\n",
    "\"\"\"\"\n",
    "normal distribution\n",
    "\"\"\"\""
   ]
  },
  {
   "cell_type": "code",
   "execution_count": 50,
   "id": "0dd237a3-a4e7-4407-8a37-e3e679857b7e",
   "metadata": {},
   "outputs": [],
   "source": [
    "stan_code = \"\"\"\n",
    "            data {\n",
    "            //num of observations\n",
    "              int<lower=0> N;\n",
    "            //num of success\n",
    "              vector[N] outcome;\n",
    "              real method[N];\n",
    "            }\n",
    "            \n",
    "            parameters {\n",
    "              // prob of success \n",
    "              real mu_A;\n",
    "              real mu_B;\n",
    "              real<lower=0> sigma;\n",
    "            }\n",
    "            \n",
    "            model {\n",
    "              //prior \n",
    "              mu_A ~ normal(69,19); //bloodpressure\n",
    "              mu_B ~ normal(32,8); //BMI\n",
    "              sigma ~ cauchy(0, 5);\n",
    "              \n",
    "              //likelihood\n",
    "              outcome ~ normal(mu_A + to_vector(method) * (mu_B - mu_A), sigma);\n",
    "              }\n",
    "\"\"\""
   ]
  },
  {
   "cell_type": "code",
   "execution_count": 64,
   "id": "502bfef7-fe95-49b4-8d0e-06ea1177d4a2",
   "metadata": {},
   "outputs": [],
   "source": [
    "data = {\n",
    "\"N\": 2*len(df), \n",
    "\"outcome\": outcome, \n",
    "\"method\": method,\n",
    "}"
   ]
  },
  {
   "cell_type": "code",
   "execution_count": 68,
   "id": "ff9c6b3f-9378-44f3-bbcb-96518104189e",
   "metadata": {},
   "outputs": [
    {
     "name": "stdout",
     "output_type": "stream",
     "text": [
      "\u001b[36mBuilding:\u001b[0m 0.2s\n",
      "\u001b[1A\u001b[0J\u001b[36mBuilding:\u001b[0m 0.3s\n",
      "\u001b[1A\u001b[0J\u001b[36mBuilding:\u001b[0m 0.4s\n",
      "\u001b[1A\u001b[0J\u001b[36mBuilding:\u001b[0m 0.5s\n",
      "\u001b[1A\u001b[0J\u001b[36mBuilding:\u001b[0m 0.6s\n",
      "\u001b[1A\u001b[0J\u001b[36mBuilding:\u001b[0m 0.7s\n",
      "\u001b[1A\u001b[0J\u001b[36mBuilding:\u001b[0m 0.8s\n",
      "\u001b[1A\u001b[0J\u001b[36mBuilding:\u001b[0m 0.9s\n",
      "\u001b[1A\u001b[0J\u001b[36mBuilding:\u001b[0m 1.0s\n",
      "\u001b[1A\u001b[0J\u001b[36mBuilding:\u001b[0m 1.1s\n",
      "\u001b[1A\u001b[0J\u001b[36mBuilding:\u001b[0m 1.2s\n",
      "\u001b[1A\u001b[0J\u001b[36mBuilding:\u001b[0m 1.3s\n",
      "\u001b[1A\u001b[0J\u001b[36mBuilding:\u001b[0m 1.4s\n",
      "\u001b[1A\u001b[0J\u001b[36mBuilding:\u001b[0m 1.5s\n",
      "\u001b[1A\u001b[0J\u001b[36mBuilding:\u001b[0m 1.6s\n",
      "\u001b[1A\u001b[0J\u001b[36mBuilding:\u001b[0m 1.7s\n",
      "\u001b[1A\u001b[0J\u001b[36mBuilding:\u001b[0m 1.8s\n"
     ]
    },
    {
     "name": "stderr",
     "output_type": "stream",
     "text": [
      "In file included from /Users/eunkang/Library/Caches/httpstan/4.10.1/models/jfbkbczi/model_jfbkbczi.cpp:2:\n",
      "In file included from /Users/eunkang/opt/anaconda3/envs/stan/lib/python3.9/site-packages/httpstan/include/stan/model/model_header.hpp:4:\n",
      "In file included from /Users/eunkang/opt/anaconda3/envs/stan/lib/python3.9/site-packages/httpstan/include/stan/math.hpp:19:\n",
      "In file included from /Users/eunkang/opt/anaconda3/envs/stan/lib/python3.9/site-packages/httpstan/include/stan/math/rev.hpp:8:\n",
      "In file included from /Users/eunkang/opt/anaconda3/envs/stan/lib/python3.9/site-packages/httpstan/include/stan/math/rev/core.hpp:10:\n",
      "In file included from /Users/eunkang/opt/anaconda3/envs/stan/lib/python3.9/site-packages/httpstan/include/stan/math/rev/core/chainable_object.hpp:6:\n",
      "In file included from /Users/eunkang/opt/anaconda3/envs/stan/lib/python3.9/site-packages/httpstan/include/stan/math/rev/core/typedefs.hpp:7:\n",
      "In file included from /Users/eunkang/opt/anaconda3/envs/stan/lib/python3.9/site-packages/httpstan/include/stan/math/rev/core/Eigen_NumTraits.hpp:5:\n",
      "In file included from /Users/eunkang/opt/anaconda3/envs/stan/lib/python3.9/site-packages/httpstan/include/stan/math/prim/core.hpp:4:\n",
      "In file included from /Users/eunkang/opt/anaconda3/envs/stan/lib/python3.9/site-packages/httpstan/include/stan/math/prim/core/init_threadpool_tbb.hpp:6:\n",
      "In file included from /Users/eunkang/opt/anaconda3/envs/stan/lib/python3.9/site-packages/httpstan/include/boost/lexical_cast.hpp:31:\n",
      "In file included from /Users/eunkang/opt/anaconda3/envs/stan/lib/python3.9/site-packages/httpstan/include/boost/lexical_cast/bad_lexical_cast.hpp:28:\n",
      "In file included from /Users/eunkang/opt/anaconda3/envs/stan/lib/python3.9/site-packages/httpstan/include/boost/throw_exception.hpp:24:\n",
      "/Users/eunkang/opt/anaconda3/envs/stan/lib/python3.9/site-packages/httpstan/include/boost/assert/source_location.hpp:75:14: warning: 'sprintf' is deprecated: This function is provided for compatibility reasons only.  Due to security concerns inherent in the design of sprintf(3), it is highly recommended that you use snprintf(3) instead. [-Wdeprecated-declarations]\n",
      "        std::sprintf( buffer, \":%ld\", static_cast<long>( line() ) );\n",
      "             ^\n",
      "/Applications/Xcode.app/Contents/Developer/Platforms/MacOSX.platform/Developer/SDKs/MacOSX.sdk/usr/include/stdio.h:188:1: note: 'sprintf' has been explicitly marked deprecated here\n",
      "__deprecated_msg(\"This function is provided for compatibility reasons only.  Due to security concerns inherent in the design of sprintf(3), it is highly recommended that you use snprintf(3) instead.\")\n",
      "^\n",
      "/Applications/Xcode.app/Contents/Developer/Platforms/MacOSX.platform/Developer/SDKs/MacOSX.sdk/usr/include/sys/cdefs.h:215:48: note: expanded from macro '__deprecated_msg'\n",
      "        #define __deprecated_msg(_msg) __attribute__((__deprecated__(_msg)))\n",
      "                                                      ^\n",
      "In file included from /Users/eunkang/Library/Caches/httpstan/4.10.1/models/jfbkbczi/model_jfbkbczi.cpp:2:\n",
      "In file included from /Users/eunkang/opt/anaconda3/envs/stan/lib/python3.9/site-packages/httpstan/include/stan/model/model_header.hpp:4:\n",
      "In file included from /Users/eunkang/opt/anaconda3/envs/stan/lib/python3.9/site-packages/httpstan/include/stan/math.hpp:19:\n",
      "In file included from /Users/eunkang/opt/anaconda3/envs/stan/lib/python3.9/site-packages/httpstan/include/stan/math/rev.hpp:8:\n",
      "In file included from /Users/eunkang/opt/anaconda3/envs/stan/lib/python3.9/site-packages/httpstan/include/stan/math/rev/core.hpp:10:\n",
      "In file included from /Users/eunkang/opt/anaconda3/envs/stan/lib/python3.9/site-packages/httpstan/include/stan/math/rev/core/chainable_object.hpp:6:\n",
      "In file included from /Users/eunkang/opt/anaconda3/envs/stan/lib/python3.9/site-packages/httpstan/include/stan/math/rev/core/typedefs.hpp:7:\n",
      "In file included from /Users/eunkang/opt/anaconda3/envs/stan/lib/python3.9/site-packages/httpstan/include/stan/math/rev/core/Eigen_NumTraits.hpp:5:\n",
      "In file included from /Users/eunkang/opt/anaconda3/envs/stan/lib/python3.9/site-packages/httpstan/include/stan/math/prim/core.hpp:4:\n",
      "In file included from /Users/eunkang/opt/anaconda3/envs/stan/lib/python3.9/site-packages/httpstan/include/stan/math/prim/core/init_threadpool_tbb.hpp:6:\n",
      "In file included from /Users/eunkang/opt/anaconda3/envs/stan/lib/python3.9/site-packages/httpstan/include/boost/lexical_cast.hpp:31:\n",
      "In file included from /Users/eunkang/opt/anaconda3/envs/stan/lib/python3.9/site-packages/httpstan/include/boost/lexical_cast/bad_lexical_cast.hpp:28:\n",
      "In file included from /Users/eunkang/opt/anaconda3/envs/stan/lib/python3.9/site-packages/httpstan/include/boost/throw_exception.hpp:24:\n",
      "/Users/eunkang/opt/anaconda3/envs/stan/lib/python3.9/site-packages/httpstan/include/boost/assert/source_location.hpp:80:18: warning: 'sprintf' is deprecated: This function is provided for compatibility reasons only.  Due to security concerns inherent in the design of sprintf(3), it is highly recommended that you use snprintf(3) instead. [-Wdeprecated-declarations]\n",
      "            std::sprintf( buffer, \":%ld\", static_cast<long>( column() ) );\n",
      "                 ^\n",
      "/Applications/Xcode.app/Contents/Developer/Platforms/MacOSX.platform/Developer/SDKs/MacOSX.sdk/usr/include/stdio.h:188:1: note: 'sprintf' has been explicitly marked deprecated here\n",
      "__deprecated_msg(\"This function is provided for compatibility reasons only.  Due to security concerns inherent in the design of sprintf(3), it is highly recommended that you use snprintf(3) instead.\")\n",
      "^\n",
      "/Applications/Xcode.app/Contents/Developer/Platforms/MacOSX.platform/Developer/SDKs/MacOSX.sdk/usr/include/sys/cdefs.h:215:48: note: expanded from macro '__deprecated_msg'\n",
      "        #define __deprecated_msg(_msg) __attribute__((__deprecated__(_msg)))\n",
      "                                                      ^\n",
      "In file included from /Users/eunkang/Library/Caches/httpstan/4.10.1/models/jfbkbczi/model_jfbkbczi.cpp:2:\n",
      "In file included from /Users/eunkang/opt/anaconda3/envs/stan/lib/python3.9/site-packages/httpstan/include/stan/model/model_header.hpp:4:\n",
      "In file included from /Users/eunkang/opt/anaconda3/envs/stan/lib/python3.9/site-packages/httpstan/include/stan/math.hpp:19:\n",
      "In file included from /Users/eunkang/opt/anaconda3/envs/stan/lib/python3.9/site-packages/httpstan/include/stan/math/rev.hpp:8:\n",
      "In file included from /Users/eunkang/opt/anaconda3/envs/stan/lib/python3.9/site-packages/httpstan/include/stan/math/rev/core.hpp:10:\n",
      "In file included from /Users/eunkang/opt/anaconda3/envs/stan/lib/python3.9/site-packages/httpstan/include/stan/math/rev/core/chainable_object.hpp:6:\n",
      "In file included from /Users/eunkang/opt/anaconda3/envs/stan/lib/python3.9/site-packages/httpstan/include/stan/math/rev/core/typedefs.hpp:7:\n",
      "In file included from /Users/eunkang/opt/anaconda3/envs/stan/lib/python3.9/site-packages/httpstan/include/stan/math/rev/core/Eigen_NumTraits.hpp:5:\n",
      "In file included from /Users/eunkang/opt/anaconda3/envs/stan/lib/python3.9/site-packages/httpstan/include/stan/math/prim/core.hpp:4:\n",
      "In file included from /Users/eunkang/opt/anaconda3/envs/stan/lib/python3.9/site-packages/httpstan/include/stan/math/prim/core/init_threadpool_tbb.hpp:6:\n",
      "In file included from /Users/eunkang/opt/anaconda3/envs/stan/lib/python3.9/site-packages/httpstan/include/boost/lexical_cast.hpp:32:\n",
      "In file included from /Users/eunkang/opt/anaconda3/envs/stan/lib/python3.9/site-packages/httpstan/include/boost/lexical_cast/try_lexical_convert.hpp:44:\n",
      "In file included from /Users/eunkang/opt/anaconda3/envs/stan/lib/python3.9/site-packages/httpstan/include/boost/lexical_cast/detail/converter_lexical.hpp:54:\n",
      "/Users/eunkang/opt/anaconda3/envs/stan/lib/python3.9/site-packages/httpstan/include/boost/lexical_cast/detail/converter_lexical_streams.hpp:285:21: warning: 'sprintf' is deprecated: This function is provided for compatibility reasons only.  Due to security concerns inherent in the design of sprintf(3), it is highly recommended that you use snprintf(3) instead. [-Wdeprecated-declarations]\n",
      "                    sprintf(begin,\n",
      "                    ^\n",
      "/Applications/Xcode.app/Contents/Developer/Platforms/MacOSX.platform/Developer/SDKs/MacOSX.sdk/usr/include/stdio.h:188:1: note: 'sprintf' has been explicitly marked deprecated here\n",
      "__deprecated_msg(\"This function is provided for compatibility reasons only.  Due to security concerns inherent in the design of sprintf(3), it is highly recommended that you use snprintf(3) instead.\")\n",
      "^\n",
      "/Applications/Xcode.app/Contents/Developer/Platforms/MacOSX.platform/Developer/SDKs/MacOSX.sdk/usr/include/sys/cdefs.h:215:48: note: expanded from macro '__deprecated_msg'\n",
      "        #define __deprecated_msg(_msg) __attribute__((__deprecated__(_msg)))\n",
      "                                                      ^\n",
      "In file included from /Users/eunkang/Library/Caches/httpstan/4.10.1/models/jfbkbczi/model_jfbkbczi.cpp:2:\n",
      "In file included from /Users/eunkang/opt/anaconda3/envs/stan/lib/python3.9/site-packages/httpstan/include/stan/model/model_header.hpp:4:\n",
      "In file included from /Users/eunkang/opt/anaconda3/envs/stan/lib/python3.9/site-packages/httpstan/include/stan/math.hpp:19:\n",
      "In file included from /Users/eunkang/opt/anaconda3/envs/stan/lib/python3.9/site-packages/httpstan/include/stan/math/rev.hpp:8:\n",
      "In file included from /Users/eunkang/opt/anaconda3/envs/stan/lib/python3.9/site-packages/httpstan/include/stan/math/rev/core.hpp:10:\n",
      "In file included from /Users/eunkang/opt/anaconda3/envs/stan/lib/python3.9/site-packages/httpstan/include/stan/math/rev/core/chainable_object.hpp:6:\n",
      "In file included from /Users/eunkang/opt/anaconda3/envs/stan/lib/python3.9/site-packages/httpstan/include/stan/math/rev/core/typedefs.hpp:7:\n",
      "In file included from /Users/eunkang/opt/anaconda3/envs/stan/lib/python3.9/site-packages/httpstan/include/stan/math/rev/core/Eigen_NumTraits.hpp:5:\n",
      "In file included from /Users/eunkang/opt/anaconda3/envs/stan/lib/python3.9/site-packages/httpstan/include/stan/math/prim/core.hpp:4:\n",
      "In file included from /Users/eunkang/opt/anaconda3/envs/stan/lib/python3.9/site-packages/httpstan/include/stan/math/prim/core/init_threadpool_tbb.hpp:6:\n",
      "In file included from /Users/eunkang/opt/anaconda3/envs/stan/lib/python3.9/site-packages/httpstan/include/boost/lexical_cast.hpp:32:\n",
      "In file included from /Users/eunkang/opt/anaconda3/envs/stan/lib/python3.9/site-packages/httpstan/include/boost/lexical_cast/try_lexical_convert.hpp:44:\n",
      "In file included from /Users/eunkang/opt/anaconda3/envs/stan/lib/python3.9/site-packages/httpstan/include/boost/lexical_cast/detail/converter_lexical.hpp:54:\n",
      "/Users/eunkang/opt/anaconda3/envs/stan/lib/python3.9/site-packages/httpstan/include/boost/lexical_cast/detail/converter_lexical_streams.hpp:297:21: warning: 'sprintf' is deprecated: This function is provided for compatibility reasons only.  Due to security concerns inherent in the design of sprintf(3), it is highly recommended that you use snprintf(3) instead. [-Wdeprecated-declarations]\n",
      "                    sprintf(begin,\n",
      "                    ^\n",
      "/Applications/Xcode.app/Contents/Developer/Platforms/MacOSX.platform/Developer/SDKs/MacOSX.sdk/usr/include/stdio.h:188:1: note: 'sprintf' has been explicitly marked deprecated here\n",
      "__deprecated_msg(\"This function is provided for compatibility reasons only.  Due to security concerns inherent in the design of sprintf(3), it is highly recommended that you use snprintf(3) instead.\")\n",
      "^\n",
      "/Applications/Xcode.app/Contents/Developer/Platforms/MacOSX.platform/Developer/SDKs/MacOSX.sdk/usr/include/sys/cdefs.h:215:48: note: expanded from macro '__deprecated_msg'\n",
      "        #define __deprecated_msg(_msg) __attribute__((__deprecated__(_msg)))\n",
      "                                                      ^\n",
      "In file included from /Users/eunkang/Library/Caches/httpstan/4.10.1/models/jfbkbczi/model_jfbkbczi.cpp:2:\n",
      "In file included from /Users/eunkang/opt/anaconda3/envs/stan/lib/python3.9/site-packages/httpstan/include/stan/model/model_header.hpp:4:\n",
      "In file included from /Users/eunkang/opt/anaconda3/envs/stan/lib/python3.9/site-packages/httpstan/include/stan/math.hpp:19:\n",
      "In file included from /Users/eunkang/opt/anaconda3/envs/stan/lib/python3.9/site-packages/httpstan/include/stan/math/rev.hpp:8:\n",
      "In file included from /Users/eunkang/opt/anaconda3/envs/stan/lib/python3.9/site-packages/httpstan/include/stan/math/rev/core.hpp:10:\n",
      "In file included from /Users/eunkang/opt/anaconda3/envs/stan/lib/python3.9/site-packages/httpstan/include/stan/math/rev/core/chainable_object.hpp:6:\n",
      "In file included from /Users/eunkang/opt/anaconda3/envs/stan/lib/python3.9/site-packages/httpstan/include/stan/math/rev/core/typedefs.hpp:7:\n",
      "In file included from /Users/eunkang/opt/anaconda3/envs/stan/lib/python3.9/site-packages/httpstan/include/stan/math/rev/core/Eigen_NumTraits.hpp:5:\n",
      "In file included from /Users/eunkang/opt/anaconda3/envs/stan/lib/python3.9/site-packages/httpstan/include/stan/math/prim/core.hpp:4:\n",
      "In file included from /Users/eunkang/opt/anaconda3/envs/stan/lib/python3.9/site-packages/httpstan/include/stan/math/prim/core/init_threadpool_tbb.hpp:6:\n",
      "In file included from /Users/eunkang/opt/anaconda3/envs/stan/lib/python3.9/site-packages/httpstan/include/boost/lexical_cast.hpp:32:\n",
      "In file included from /Users/eunkang/opt/anaconda3/envs/stan/lib/python3.9/site-packages/httpstan/include/boost/lexical_cast/try_lexical_convert.hpp:44:\n",
      "In file included from /Users/eunkang/opt/anaconda3/envs/stan/lib/python3.9/site-packages/httpstan/include/boost/lexical_cast/detail/converter_lexical.hpp:54:\n",
      "/Users/eunkang/opt/anaconda3/envs/stan/lib/python3.9/site-packages/httpstan/include/boost/lexical_cast/detail/converter_lexical_streams.hpp:310:21: warning: 'sprintf' is deprecated: This function is provided for compatibility reasons only.  Due to security concerns inherent in the design of sprintf(3), it is highly recommended that you use snprintf(3) instead. [-Wdeprecated-declarations]\n",
      "                    sprintf(begin,\n",
      "                    ^\n",
      "/Applications/Xcode.app/Contents/Developer/Platforms/MacOSX.platform/Developer/SDKs/MacOSX.sdk/usr/include/stdio.h:188:1: note: 'sprintf' has been explicitly marked deprecated here\n",
      "__deprecated_msg(\"This function is provided for compatibility reasons only.  Due to security concerns inherent in the design of sprintf(3), it is highly recommended that you use snprintf(3) instead.\")\n",
      "^\n",
      "/Applications/Xcode.app/Contents/Developer/Platforms/MacOSX.platform/Developer/SDKs/MacOSX.sdk/usr/include/sys/cdefs.h:215:48: note: expanded from macro '__deprecated_msg'\n",
      "        #define __deprecated_msg(_msg) __attribute__((__deprecated__(_msg)))\n",
      "                                                      ^\n"
     ]
    },
    {
     "name": "stdout",
     "output_type": "stream",
     "text": [
      "\u001b[1A\u001b[0J\u001b[36mBuilding:\u001b[0m 1.9s\n",
      "\u001b[1A\u001b[0J\u001b[36mBuilding:\u001b[0m 2.0s\n",
      "\u001b[1A\u001b[0J\u001b[36mBuilding:\u001b[0m 2.1s\n",
      "\u001b[1A\u001b[0J\u001b[36mBuilding:\u001b[0m 2.2s\n",
      "\u001b[1A\u001b[0J\u001b[36mBuilding:\u001b[0m 2.4s\n",
      "\u001b[1A\u001b[0J\u001b[36mBuilding:\u001b[0m 2.5s\n",
      "\u001b[1A\u001b[0J\u001b[36mBuilding:\u001b[0m 2.6s\n",
      "\u001b[1A\u001b[0J\u001b[36mBuilding:\u001b[0m 2.7s\n",
      "\u001b[1A\u001b[0J\u001b[36mBuilding:\u001b[0m 2.8s\n"
     ]
    },
    {
     "name": "stderr",
     "output_type": "stream",
     "text": [
      "In file included from /Users/eunkang/Library/Caches/httpstan/4.10.1/models/jfbkbczi/model_jfbkbczi.cpp:2:\n",
      "In file included from /Users/eunkang/opt/anaconda3/envs/stan/lib/python3.9/site-packages/httpstan/include/stan/model/model_header.hpp:4:\n",
      "In file included from /Users/eunkang/opt/anaconda3/envs/stan/lib/python3.9/site-packages/httpstan/include/stan/math.hpp:19:\n",
      "In file included from /Users/eunkang/opt/anaconda3/envs/stan/lib/python3.9/site-packages/httpstan/include/stan/math/rev.hpp:10:\n",
      "In file included from /Users/eunkang/opt/anaconda3/envs/stan/lib/python3.9/site-packages/httpstan/include/stan/math/rev/fun.hpp:26:\n",
      "/Users/eunkang/opt/anaconda3/envs/stan/lib/python3.9/site-packages/httpstan/include/stan/math/rev/fun/beta.hpp:70:32: warning: lambda capture 'b' is not used [-Wunused-lambda-capture]\n",
      "                           [a, b, digamma_ab](auto& vi) mutable {\n",
      "                             ~~^\n"
     ]
    },
    {
     "name": "stdout",
     "output_type": "stream",
     "text": [
      "\u001b[1A\u001b[0J\u001b[36mBuilding:\u001b[0m 2.9s\n",
      "\u001b[1A\u001b[0J\u001b[36mBuilding:\u001b[0m 3.0s\n",
      "\u001b[1A\u001b[0J\u001b[36mBuilding:\u001b[0m 3.1s\n",
      "\u001b[1A\u001b[0J\u001b[36mBuilding:\u001b[0m 3.2s\n",
      "\u001b[1A\u001b[0J\u001b[36mBuilding:\u001b[0m 3.3s\n",
      "\u001b[1A\u001b[0J\u001b[36mBuilding:\u001b[0m 3.4s\n"
     ]
    },
    {
     "name": "stderr",
     "output_type": "stream",
     "text": [
      "In file included from /Users/eunkang/Library/Caches/httpstan/4.10.1/models/jfbkbczi/model_jfbkbczi.cpp:2:\n",
      "In file included from /Users/eunkang/opt/anaconda3/envs/stan/lib/python3.9/site-packages/httpstan/include/stan/model/model_header.hpp:4:\n",
      "In file included from /Users/eunkang/opt/anaconda3/envs/stan/lib/python3.9/site-packages/httpstan/include/stan/math.hpp:19:\n",
      "In file included from /Users/eunkang/opt/anaconda3/envs/stan/lib/python3.9/site-packages/httpstan/include/stan/math/rev.hpp:10:\n",
      "In file included from /Users/eunkang/opt/anaconda3/envs/stan/lib/python3.9/site-packages/httpstan/include/stan/math/rev/fun.hpp:55:\n",
      "In file included from /Users/eunkang/opt/anaconda3/envs/stan/lib/python3.9/site-packages/httpstan/include/stan/math/rev/fun/elt_multiply.hpp:9:\n",
      "In file included from /Users/eunkang/opt/anaconda3/envs/stan/lib/python3.9/site-packages/httpstan/include/stan/math/rev/fun/multiply.hpp:7:\n",
      "In file included from /Users/eunkang/opt/anaconda3/envs/stan/lib/python3.9/site-packages/httpstan/include/stan/math/prim/fun.hpp:124:\n",
      "/Users/eunkang/opt/anaconda3/envs/stan/lib/python3.9/site-packages/httpstan/include/stan/math/prim/fun/grad_2F1.hpp:68:10: warning: unused variable 'log_precision' [-Wunused-variable]\n",
      "  double log_precision = log(precision);\n",
      "         ^\n"
     ]
    },
    {
     "name": "stdout",
     "output_type": "stream",
     "text": [
      "\u001b[1A\u001b[0J\u001b[36mBuilding:\u001b[0m 3.5s\n",
      "\u001b[1A\u001b[0J\u001b[36mBuilding:\u001b[0m 3.6s\n",
      "\u001b[1A\u001b[0J\u001b[36mBuilding:\u001b[0m 3.7s\n",
      "\u001b[1A\u001b[0J\u001b[36mBuilding:\u001b[0m 3.8s\n",
      "\u001b[1A\u001b[0J\u001b[36mBuilding:\u001b[0m 3.9s\n",
      "\u001b[1A\u001b[0J\u001b[36mBuilding:\u001b[0m 4.0s\n",
      "\u001b[1A\u001b[0J\u001b[36mBuilding:\u001b[0m 4.1s\n",
      "\u001b[1A\u001b[0J\u001b[36mBuilding:\u001b[0m 4.2s\n",
      "\u001b[1A\u001b[0J\u001b[36mBuilding:\u001b[0m 4.3s\n",
      "\u001b[1A\u001b[0J\u001b[36mBuilding:\u001b[0m 4.4s\n",
      "\u001b[1A\u001b[0J\u001b[36mBuilding:\u001b[0m 4.5s\n"
     ]
    },
    {
     "name": "stderr",
     "output_type": "stream",
     "text": [
      "In file included from /Users/eunkang/Library/Caches/httpstan/4.10.1/models/jfbkbczi/model_jfbkbczi.cpp:2:\n",
      "In file included from /Users/eunkang/opt/anaconda3/envs/stan/lib/python3.9/site-packages/httpstan/include/stan/model/model_header.hpp:4:\n",
      "In file included from /Users/eunkang/opt/anaconda3/envs/stan/lib/python3.9/site-packages/httpstan/include/stan/math.hpp:19:\n",
      "In file included from /Users/eunkang/opt/anaconda3/envs/stan/lib/python3.9/site-packages/httpstan/include/stan/math/rev.hpp:10:\n",
      "In file included from /Users/eunkang/opt/anaconda3/envs/stan/lib/python3.9/site-packages/httpstan/include/stan/math/rev/fun.hpp:198:\n",
      "In file included from /Users/eunkang/opt/anaconda3/envs/stan/lib/python3.9/site-packages/httpstan/include/stan/math/prim/functor.hpp:12:\n",
      "/Users/eunkang/opt/anaconda3/envs/stan/lib/python3.9/site-packages/httpstan/include/stan/math/prim/functor/hcubature.hpp:468:7: warning: unused variable 'kdiv' [-Wunused-variable]\n",
      "  int kdiv = kdivide;\n",
      "      ^\n"
     ]
    },
    {
     "name": "stdout",
     "output_type": "stream",
     "text": [
      "\u001b[1A\u001b[0J\u001b[36mBuilding:\u001b[0m 4.6s\n",
      "\u001b[1A\u001b[0J\u001b[36mBuilding:\u001b[0m 4.7s\n",
      "\u001b[1A\u001b[0J\u001b[36mBuilding:\u001b[0m 4.8s\n",
      "\u001b[1A\u001b[0J\u001b[36mBuilding:\u001b[0m 4.9s\n",
      "\u001b[1A\u001b[0J\u001b[36mBuilding:\u001b[0m 5.0s\n",
      "\u001b[1A\u001b[0J\u001b[36mBuilding:\u001b[0m 5.1s\n",
      "\u001b[1A\u001b[0J\u001b[36mBuilding:\u001b[0m 5.2s\n",
      "\u001b[1A\u001b[0J\u001b[36mBuilding:\u001b[0m 5.3s\n",
      "\u001b[1A\u001b[0J\u001b[36mBuilding:\u001b[0m 5.4s\n",
      "\u001b[1A\u001b[0J\u001b[36mBuilding:\u001b[0m 5.5s\n"
     ]
    },
    {
     "name": "stderr",
     "output_type": "stream",
     "text": [
      "In file included from /Users/eunkang/Library/Caches/httpstan/4.10.1/models/jfbkbczi/model_jfbkbczi.cpp:2:\n",
      "In file included from /Users/eunkang/opt/anaconda3/envs/stan/lib/python3.9/site-packages/httpstan/include/stan/model/model_header.hpp:4:\n",
      "In file included from /Users/eunkang/opt/anaconda3/envs/stan/lib/python3.9/site-packages/httpstan/include/stan/math.hpp:19:\n",
      "In file included from /Users/eunkang/opt/anaconda3/envs/stan/lib/python3.9/site-packages/httpstan/include/stan/math/rev.hpp:10:\n",
      "In file included from /Users/eunkang/opt/anaconda3/envs/stan/lib/python3.9/site-packages/httpstan/include/stan/math/rev/fun.hpp:198:\n",
      "In file included from /Users/eunkang/opt/anaconda3/envs/stan/lib/python3.9/site-packages/httpstan/include/stan/math/prim/functor.hpp:15:\n",
      "In file included from /Users/eunkang/opt/anaconda3/envs/stan/lib/python3.9/site-packages/httpstan/include/stan/math/prim/functor/integrate_ode_rk45.hpp:6:\n",
      "In file included from /Users/eunkang/opt/anaconda3/envs/stan/lib/python3.9/site-packages/httpstan/include/stan/math/prim/functor/ode_rk45.hpp:9:\n",
      "In file included from /Users/eunkang/opt/anaconda3/envs/stan/lib/python3.9/site-packages/httpstan/include/boost/numeric/odeint.hpp:37:\n",
      "In file included from /Users/eunkang/opt/anaconda3/envs/stan/lib/python3.9/site-packages/httpstan/include/boost/numeric/odeint/stepper/dense_output_runge_kutta.hpp:40:\n",
      "/Users/eunkang/opt/anaconda3/envs/stan/lib/python3.9/site-packages/httpstan/include/boost/numeric/odeint/integrate/max_step_checker.hpp:72:18: warning: 'sprintf' is deprecated: This function is provided for compatibility reasons only.  Due to security concerns inherent in the design of sprintf(3), it is highly recommended that you use snprintf(3) instead. [-Wdeprecated-declarations]\n",
      "            std::sprintf(error_msg, \"Max number of iterations exceeded (%d).\", m_max_steps);\n",
      "                 ^\n",
      "/Applications/Xcode.app/Contents/Developer/Platforms/MacOSX.platform/Developer/SDKs/MacOSX.sdk/usr/include/stdio.h:188:1: note: 'sprintf' has been explicitly marked deprecated here\n",
      "__deprecated_msg(\"This function is provided for compatibility reasons only.  Due to security concerns inherent in the design of sprintf(3), it is highly recommended that you use snprintf(3) instead.\")\n",
      "^\n",
      "/Applications/Xcode.app/Contents/Developer/Platforms/MacOSX.platform/Developer/SDKs/MacOSX.sdk/usr/include/sys/cdefs.h:215:48: note: expanded from macro '__deprecated_msg'\n",
      "        #define __deprecated_msg(_msg) __attribute__((__deprecated__(_msg)))\n",
      "                                                      ^\n",
      "In file included from /Users/eunkang/Library/Caches/httpstan/4.10.1/models/jfbkbczi/model_jfbkbczi.cpp:2:\n",
      "In file included from /Users/eunkang/opt/anaconda3/envs/stan/lib/python3.9/site-packages/httpstan/include/stan/model/model_header.hpp:4:\n",
      "In file included from /Users/eunkang/opt/anaconda3/envs/stan/lib/python3.9/site-packages/httpstan/include/stan/math.hpp:19:\n",
      "In file included from /Users/eunkang/opt/anaconda3/envs/stan/lib/python3.9/site-packages/httpstan/include/stan/math/rev.hpp:10:\n",
      "In file included from /Users/eunkang/opt/anaconda3/envs/stan/lib/python3.9/site-packages/httpstan/include/stan/math/rev/fun.hpp:198:\n",
      "In file included from /Users/eunkang/opt/anaconda3/envs/stan/lib/python3.9/site-packages/httpstan/include/stan/math/prim/functor.hpp:15:\n",
      "In file included from /Users/eunkang/opt/anaconda3/envs/stan/lib/python3.9/site-packages/httpstan/include/stan/math/prim/functor/integrate_ode_rk45.hpp:6:\n",
      "In file included from /Users/eunkang/opt/anaconda3/envs/stan/lib/python3.9/site-packages/httpstan/include/stan/math/prim/functor/ode_rk45.hpp:9:\n",
      "In file included from /Users/eunkang/opt/anaconda3/envs/stan/lib/python3.9/site-packages/httpstan/include/boost/numeric/odeint.hpp:37:\n",
      "In file included from /Users/eunkang/opt/anaconda3/envs/stan/lib/python3.9/site-packages/httpstan/include/boost/numeric/odeint/stepper/dense_output_runge_kutta.hpp:40:\n",
      "/Users/eunkang/opt/anaconda3/envs/stan/lib/python3.9/site-packages/httpstan/include/boost/numeric/odeint/integrate/max_step_checker.hpp:104:18: warning: 'sprintf' is deprecated: This function is provided for compatibility reasons only.  Due to security concerns inherent in the design of sprintf(3), it is highly recommended that you use snprintf(3) instead. [-Wdeprecated-declarations]\n",
      "            std::sprintf(error_msg, \"Max number of iterations exceeded (%d). A new step size was not found.\", m_max_steps);\n",
      "                 ^\n",
      "/Applications/Xcode.app/Contents/Developer/Platforms/MacOSX.platform/Developer/SDKs/MacOSX.sdk/usr/include/stdio.h:188:1: note: 'sprintf' has been explicitly marked deprecated here\n",
      "__deprecated_msg(\"This function is provided for compatibility reasons only.  Due to security concerns inherent in the design of sprintf(3), it is highly recommended that you use snprintf(3) instead.\")\n",
      "^\n",
      "/Applications/Xcode.app/Contents/Developer/Platforms/MacOSX.platform/Developer/SDKs/MacOSX.sdk/usr/include/sys/cdefs.h:215:48: note: expanded from macro '__deprecated_msg'\n",
      "        #define __deprecated_msg(_msg) __attribute__((__deprecated__(_msg)))\n",
      "                                                      ^\n"
     ]
    },
    {
     "name": "stdout",
     "output_type": "stream",
     "text": [
      "\u001b[1A\u001b[0J\u001b[36mBuilding:\u001b[0m 5.6s\n",
      "\u001b[1A\u001b[0J\u001b[36mBuilding:\u001b[0m 5.7s\n",
      "\u001b[1A\u001b[0J\u001b[36mBuilding:\u001b[0m 5.8s\n",
      "\u001b[1A\u001b[0J\u001b[36mBuilding:\u001b[0m 6.0s\n",
      "\u001b[1A\u001b[0J\u001b[36mBuilding:\u001b[0m 6.1s\n"
     ]
    },
    {
     "name": "stderr",
     "output_type": "stream",
     "text": [
      "In file included from /Users/eunkang/Library/Caches/httpstan/4.10.1/models/jfbkbczi/model_jfbkbczi.cpp:2:\n",
      "In file included from /Users/eunkang/opt/anaconda3/envs/stan/lib/python3.9/site-packages/httpstan/include/stan/model/model_header.hpp:4:\n",
      "In file included from /Users/eunkang/opt/anaconda3/envs/stan/lib/python3.9/site-packages/httpstan/include/stan/math.hpp:19:\n",
      "In file included from /Users/eunkang/opt/anaconda3/envs/stan/lib/python3.9/site-packages/httpstan/include/stan/math/rev.hpp:14:\n",
      "In file included from /Users/eunkang/opt/anaconda3/envs/stan/lib/python3.9/site-packages/httpstan/include/stan/math/prim.hpp:16:\n",
      "In file included from /Users/eunkang/opt/anaconda3/envs/stan/lib/python3.9/site-packages/httpstan/include/stan/math/prim/prob.hpp:128:\n",
      "/Users/eunkang/opt/anaconda3/envs/stan/lib/python3.9/site-packages/httpstan/include/stan/math/prim/prob/gaussian_dlm_obs_rng.hpp:98:7: warning: unused variable 'n' [-Wunused-variable]\n",
      "  int n = G.rows();  // number of states\n",
      "      ^\n"
     ]
    },
    {
     "name": "stdout",
     "output_type": "stream",
     "text": [
      "\u001b[1A\u001b[0J\u001b[36mBuilding:\u001b[0m 6.2s\n",
      "\u001b[1A\u001b[0J\u001b[36mBuilding:\u001b[0m 6.3s\n",
      "\u001b[1A\u001b[0J\u001b[36mBuilding:\u001b[0m 6.4s\n"
     ]
    },
    {
     "name": "stderr",
     "output_type": "stream",
     "text": [
      "In file included from /Users/eunkang/Library/Caches/httpstan/4.10.1/models/jfbkbczi/model_jfbkbczi.cpp:2:\n",
      "In file included from /Users/eunkang/opt/anaconda3/envs/stan/lib/python3.9/site-packages/httpstan/include/stan/model/model_header.hpp:4:\n",
      "In file included from /Users/eunkang/opt/anaconda3/envs/stan/lib/python3.9/site-packages/httpstan/include/stan/math.hpp:19:\n",
      "In file included from /Users/eunkang/opt/anaconda3/envs/stan/lib/python3.9/site-packages/httpstan/include/stan/math/rev.hpp:14:\n",
      "In file included from /Users/eunkang/opt/anaconda3/envs/stan/lib/python3.9/site-packages/httpstan/include/stan/math/prim.hpp:16:\n",
      "In file included from /Users/eunkang/opt/anaconda3/envs/stan/lib/python3.9/site-packages/httpstan/include/stan/math/prim/prob.hpp:210:\n",
      "In file included from /Users/eunkang/opt/anaconda3/envs/stan/lib/python3.9/site-packages/httpstan/include/stan/math/prim/prob/multi_student_t_log.hpp:5:\n",
      "/Users/eunkang/opt/anaconda3/envs/stan/lib/python3.9/site-packages/httpstan/include/stan/math/prim/prob/multi_student_t_lpdf.hpp:57:10: warning: unused variable 'num_mu' [-Wunused-variable]\n",
      "  size_t num_mu = size_mvt(mu);\n",
      "         ^\n",
      "/Users/eunkang/opt/anaconda3/envs/stan/lib/python3.9/site-packages/httpstan/include/stan/math/prim/prob/multi_student_t_lpdf.hpp:56:10: warning: unused variable 'num_y' [-Wunused-variable]\n",
      "  size_t num_y = size_mvt(y);\n",
      "         ^\n"
     ]
    },
    {
     "name": "stdout",
     "output_type": "stream",
     "text": [
      "\u001b[1A\u001b[0J\u001b[36mBuilding:\u001b[0m 6.5s\n",
      "\u001b[1A\u001b[0J\u001b[36mBuilding:\u001b[0m 6.6s\n",
      "\u001b[1A\u001b[0J\u001b[36mBuilding:\u001b[0m 6.7s\n"
     ]
    },
    {
     "name": "stderr",
     "output_type": "stream",
     "text": [
      "In file included from /Users/eunkang/Library/Caches/httpstan/4.10.1/models/jfbkbczi/model_jfbkbczi.cpp:2:\n",
      "In file included from /Users/eunkang/opt/anaconda3/envs/stan/lib/python3.9/site-packages/httpstan/include/stan/model/model_header.hpp:4:\n",
      "In file included from /Users/eunkang/opt/anaconda3/envs/stan/lib/python3.9/site-packages/httpstan/include/stan/math.hpp:19:\n",
      "In file included from /Users/eunkang/opt/anaconda3/envs/stan/lib/python3.9/site-packages/httpstan/include/stan/math/rev.hpp:14:\n",
      "In file included from /Users/eunkang/opt/anaconda3/envs/stan/lib/python3.9/site-packages/httpstan/include/stan/math/prim.hpp:16:\n",
      "In file included from /Users/eunkang/opt/anaconda3/envs/stan/lib/python3.9/site-packages/httpstan/include/stan/math/prim/prob.hpp:312:\n",
      "In file included from /Users/eunkang/opt/anaconda3/envs/stan/lib/python3.9/site-packages/httpstan/include/stan/math/prim/prob/skew_double_exponential_ccdf_log.hpp:5:\n",
      "/Users/eunkang/opt/anaconda3/envs/stan/lib/python3.9/site-packages/httpstan/include/stan/math/prim/prob/skew_double_exponential_lccdf.hpp:78:13: warning: unused variable 'size_sigma' [-Wunused-variable]\n",
      "  const int size_sigma = stan::math::size(sigma);\n",
      "            ^\n",
      "/Users/eunkang/Library/Caches/httpstan/4.10.1/models/jfbkbczi/model_jfbkbczi.cpp:221:11: warning: variable 'pos__' set but not used [-Wunused-but-set-variable]\n",
      "      int pos__ = std::numeric_limits<int>::min();\n",
      "          ^\n",
      "/Users/eunkang/Library/Caches/httpstan/4.10.1/models/jfbkbczi/model_jfbkbczi.cpp:259:11: warning: variable 'pos__' set but not used [-Wunused-but-set-variable]\n",
      "      int pos__ = std::numeric_limits<int>::min();\n",
      "          ^\n"
     ]
    },
    {
     "name": "stdout",
     "output_type": "stream",
     "text": [
      "\u001b[1A\u001b[0J\u001b[36mBuilding:\u001b[0m 6.8s\n",
      "\u001b[1A\u001b[0J\u001b[36mBuilding:\u001b[0m 6.9s\n",
      "\u001b[1A\u001b[0J\u001b[36mBuilding:\u001b[0m 7.0s\n",
      "\u001b[1A\u001b[0J\u001b[36mBuilding:\u001b[0m 7.1s\n",
      "\u001b[1A\u001b[0J\u001b[36mBuilding:\u001b[0m 7.2s\n",
      "\u001b[1A\u001b[0J\u001b[36mBuilding:\u001b[0m 7.3s\n",
      "\u001b[1A\u001b[0J\u001b[36mBuilding:\u001b[0m 7.4s\n"
     ]
    },
    {
     "name": "stderr",
     "output_type": "stream",
     "text": [
      "In file included from /Users/eunkang/Library/Caches/httpstan/4.10.1/models/jfbkbczi/model_jfbkbczi.cpp:2:\n",
      "In file included from /Users/eunkang/opt/anaconda3/envs/stan/lib/python3.9/site-packages/httpstan/include/stan/model/model_header.hpp:4:\n",
      "In file included from /Users/eunkang/opt/anaconda3/envs/stan/lib/python3.9/site-packages/httpstan/include/stan/math.hpp:19:\n",
      "In file included from /Users/eunkang/opt/anaconda3/envs/stan/lib/python3.9/site-packages/httpstan/include/stan/math/rev.hpp:10:\n",
      "In file included from /Users/eunkang/opt/anaconda3/envs/stan/lib/python3.9/site-packages/httpstan/include/stan/math/rev/fun.hpp:55:\n",
      "In file included from /Users/eunkang/opt/anaconda3/envs/stan/lib/python3.9/site-packages/httpstan/include/stan/math/rev/fun/elt_multiply.hpp:9:\n",
      "In file included from /Users/eunkang/opt/anaconda3/envs/stan/lib/python3.9/site-packages/httpstan/include/stan/math/rev/fun/multiply.hpp:7:\n",
      "In file included from /Users/eunkang/opt/anaconda3/envs/stan/lib/python3.9/site-packages/httpstan/include/stan/math/prim/fun.hpp:124:\n",
      "/Users/eunkang/opt/anaconda3/envs/stan/lib/python3.9/site-packages/httpstan/include/stan/math/prim/fun/grad_2F1.hpp:192:12: warning: unused variable 'pre_mult' [-Wunused-variable]\n",
      "      auto pre_mult = a2 * pow(1 - z, -1 - a2);\n",
      "           ^\n",
      "/Users/eunkang/opt/anaconda3/envs/stan/lib/python3.9/site-packages/httpstan/include/stan/math/prim/fun/grad_2F1.hpp:307:20: note: in instantiation of function template specialization 'stan::math::internal::grad_2F1_impl<true, true, true, true, double, double, double, double, double, std::tuple<double, double, double, double>>' requested here\n",
      "  return internal::grad_2F1_impl<true, true, true, true>(a1, a2, b1, z,\n",
      "                   ^\n"
     ]
    },
    {
     "name": "stdout",
     "output_type": "stream",
     "text": [
      "\u001b[1A\u001b[0J\u001b[36mBuilding:\u001b[0m 7.5s\n",
      "\u001b[1A\u001b[0J\u001b[36mBuilding:\u001b[0m 7.6s\n",
      "\u001b[1A\u001b[0J\u001b[36mBuilding:\u001b[0m 7.7s\n",
      "\u001b[1A\u001b[0J\u001b[36mBuilding:\u001b[0m 7.8s\n",
      "\u001b[1A\u001b[0J\u001b[36mBuilding:\u001b[0m 7.9s\n"
     ]
    },
    {
     "name": "stderr",
     "output_type": "stream",
     "text": [
      "/Users/eunkang/opt/anaconda3/envs/stan/lib/python3.9/site-packages/httpstan/include/stan/math/prim/fun/grad_2F1.hpp:192:12: warning: unused variable 'pre_mult' [-Wunused-variable]\n",
      "      auto pre_mult = a2 * pow(1 - z, -1 - a2);\n",
      "           ^\n",
      "/Users/eunkang/opt/anaconda3/envs/stan/lib/python3.9/site-packages/httpstan/include/stan/math/prim/fun/grad_2F1.hpp:307:20: note: in instantiation of function template specialization 'stan::math::internal::grad_2F1_impl<true, true, true, true, stan::math::var_value<double>, stan::math::var_value<double>, stan::math::var_value<double>, stan::math::var_value<double>, stan::math::var_value<double>, std::tuple<stan::math::var_value<double>, stan::math::var_value<double>, stan::math::var_value<double>, stan::math::var_value<double>>>' requested here\n",
      "  return internal::grad_2F1_impl<true, true, true, true>(a1, a2, b1, z,\n",
      "                   ^\n",
      "In file included from /Users/eunkang/Library/Caches/httpstan/4.10.1/models/jfbkbczi/model_jfbkbczi.cpp:2:\n",
      "In file included from /Users/eunkang/opt/anaconda3/envs/stan/lib/python3.9/site-packages/httpstan/include/stan/model/model_header.hpp:4:\n",
      "In file included from /Users/eunkang/opt/anaconda3/envs/stan/lib/python3.9/site-packages/httpstan/include/stan/math.hpp:19:\n",
      "In file included from /Users/eunkang/opt/anaconda3/envs/stan/lib/python3.9/site-packages/httpstan/include/stan/math/rev.hpp:8:\n",
      "In file included from /Users/eunkang/opt/anaconda3/envs/stan/lib/python3.9/site-packages/httpstan/include/stan/math/rev/core.hpp:29:\n",
      "In file included from /Users/eunkang/opt/anaconda3/envs/stan/lib/python3.9/site-packages/httpstan/include/stan/math/rev/core/operator_divide_equal.hpp:5:\n",
      "In file included from /Users/eunkang/opt/anaconda3/envs/stan/lib/python3.9/site-packages/httpstan/include/stan/math/rev/core/operator_division.hpp:13:\n",
      "In file included from /Users/eunkang/opt/anaconda3/envs/stan/lib/python3.9/site-packages/httpstan/include/stan/math/rev/core/operator_multiplication.hpp:7:\n",
      "/Users/eunkang/opt/anaconda3/envs/stan/lib/python3.9/site-packages/httpstan/include/stan/math/rev/core/operator_subtraction.hpp:104:21: warning: lambda capture 'a' is not used [-Wunused-lambda-capture]\n",
      "      [bvi = b.vi_, a](const auto& vi) mutable { bvi->adj_ -= vi.adj_; });\n",
      "                    ^\n",
      "/Users/eunkang/opt/anaconda3/envs/stan/lib/python3.9/site-packages/httpstan/include/stan/math/prim/fun/grad_2F1.hpp:191:50: note: in instantiation of function template specialization 'stan::math::operator-<int, nullptr>' requested here\n",
      "      auto hyper2 = hypergeometric_2F1(1 + a2, 1 - a1 + b1, 1 + b1, z_euler);\n",
      "                                                 ^\n",
      "/Users/eunkang/opt/anaconda3/envs/stan/lib/python3.9/site-packages/httpstan/include/stan/math/prim/fun/grad_2F1.hpp:307:20: note: in instantiation of function template specialization 'stan::math::internal::grad_2F1_impl<true, true, true, true, stan::math::var_value<double>, stan::math::var_value<double>, stan::math::var_value<double>, stan::math::var_value<double>, stan::math::var_value<double>, std::tuple<stan::math::var_value<double>, stan::math::var_value<double>, stan::math::var_value<double>, stan::math::var_value<double>>>' requested here\n",
      "  return internal::grad_2F1_impl<true, true, true, true>(a1, a2, b1, z,\n",
      "                   ^\n",
      "In file included from /Users/eunkang/Library/Caches/httpstan/4.10.1/models/jfbkbczi/model_jfbkbczi.cpp:2:\n",
      "In file included from /Users/eunkang/opt/anaconda3/envs/stan/lib/python3.9/site-packages/httpstan/include/stan/model/model_header.hpp:4:\n",
      "In file included from /Users/eunkang/opt/anaconda3/envs/stan/lib/python3.9/site-packages/httpstan/include/stan/math.hpp:19:\n",
      "In file included from /Users/eunkang/opt/anaconda3/envs/stan/lib/python3.9/site-packages/httpstan/include/stan/math/rev.hpp:8:\n",
      "In file included from /Users/eunkang/opt/anaconda3/envs/stan/lib/python3.9/site-packages/httpstan/include/stan/math/rev/core.hpp:29:\n",
      "In file included from /Users/eunkang/opt/anaconda3/envs/stan/lib/python3.9/site-packages/httpstan/include/stan/math/rev/core/operator_divide_equal.hpp:5:\n",
      "In file included from /Users/eunkang/opt/anaconda3/envs/stan/lib/python3.9/site-packages/httpstan/include/stan/math/rev/core/operator_division.hpp:13:\n",
      "In file included from /Users/eunkang/opt/anaconda3/envs/stan/lib/python3.9/site-packages/httpstan/include/stan/math/rev/core/operator_multiplication.hpp:7:\n",
      "/Users/eunkang/opt/anaconda3/envs/stan/lib/python3.9/site-packages/httpstan/include/stan/math/rev/core/operator_subtraction.hpp:104:21: warning: lambda capture 'a' is not used [-Wunused-lambda-capture]\n",
      "      [bvi = b.vi_, a](const auto& vi) mutable { bvi->adj_ -= vi.adj_; });\n",
      "                    ^\n",
      "/Users/eunkang/opt/anaconda3/envs/stan/lib/python3.9/site-packages/httpstan/include/stan/math/prim/fun/grad_2F1.hpp:208:38: note: in instantiation of function template specialization 'stan::math::operator-<double, nullptr>' requested here\n",
      "      auto pre_mult_ab = inv(pow(1.0 - z, a2));\n",
      "                                     ^\n",
      "/Users/eunkang/opt/anaconda3/envs/stan/lib/python3.9/site-packages/httpstan/include/stan/math/prim/fun/grad_2F1.hpp:307:20: note: in instantiation of function template specialization 'stan::math::internal::grad_2F1_impl<true, true, true, true, stan::math::var_value<double>, stan::math::var_value<double>, stan::math::var_value<double>, stan::math::var_value<double>, stan::math::var_value<double>, std::tuple<stan::math::var_value<double>, stan::math::var_value<double>, stan::math::var_value<double>, stan::math::var_value<double>>>' requested here\n",
      "  return internal::grad_2F1_impl<true, true, true, true>(a1, a2, b1, z,\n",
      "                   ^\n"
     ]
    },
    {
     "name": "stdout",
     "output_type": "stream",
     "text": [
      "\u001b[1A\u001b[0J\u001b[36mBuilding:\u001b[0m 8.0s\n",
      "\u001b[1A\u001b[0J\u001b[36mBuilding:\u001b[0m 8.1s\n",
      "\u001b[1A\u001b[0J\u001b[36mBuilding:\u001b[0m 8.2s\n",
      "\u001b[1A\u001b[0J\u001b[36mBuilding:\u001b[0m 8.3s\n",
      "\u001b[1A\u001b[0J\u001b[36mBuilding:\u001b[0m 8.4s\n",
      "\u001b[1A\u001b[0J\u001b[36mBuilding:\u001b[0m 8.5s\n",
      "\u001b[1A\u001b[0J\u001b[36mBuilding:\u001b[0m 8.6s\n",
      "\u001b[1A\u001b[0J\u001b[36mBuilding:\u001b[0m 8.7s\n",
      "\u001b[1A\u001b[0J\u001b[36mBuilding:\u001b[0m 8.8s\n"
     ]
    },
    {
     "name": "stderr",
     "output_type": "stream",
     "text": [
      "In file included from /Users/eunkang/Library/Caches/httpstan/4.10.1/models/jfbkbczi/model_jfbkbczi.cpp:2:\n",
      "In file included from /Users/eunkang/opt/anaconda3/envs/stan/lib/python3.9/site-packages/httpstan/include/stan/model/model_header.hpp:4:\n",
      "In file included from /Users/eunkang/opt/anaconda3/envs/stan/lib/python3.9/site-packages/httpstan/include/stan/math.hpp:19:\n",
      "In file included from /Users/eunkang/opt/anaconda3/envs/stan/lib/python3.9/site-packages/httpstan/include/stan/math/rev.hpp:10:\n",
      "In file included from /Users/eunkang/opt/anaconda3/envs/stan/lib/python3.9/site-packages/httpstan/include/stan/math/rev/fun.hpp:100:\n",
      "/Users/eunkang/opt/anaconda3/envs/stan/lib/python3.9/site-packages/httpstan/include/stan/math/rev/fun/lb_constrain.hpp:114:33: warning: lambda capture 'lp' is not used [-Wunused-lambda-capture]\n",
      "                               [lp, arena_lb = var(lb)](auto& vi) mutable {\n",
      "                                ^\n",
      "/Users/eunkang/opt/anaconda3/envs/stan/lib/python3.9/site-packages/httpstan/include/stan/io/deserializer.hpp:386:26: note: in instantiation of function template specialization 'stan::math::lb_constrain<stan::math::var_value<double>, int, nullptr, nullptr>' requested here\n",
      "      return stan::math::lb_constrain(this->read<Ret>(sizes...), lb, lp);\n",
      "                         ^\n",
      "/Users/eunkang/Library/Caches/httpstan/4.10.1/models/jfbkbczi/model_jfbkbczi.cpp:129:29: note: in instantiation of function template specialization 'stan::io::deserializer<stan::math::var_value<double>>::read_constrain_lb<stan::math::var_value<double>, false, int, stan::math::var_value<double>>' requested here\n",
      "      sigma = in__.template read_constrain_lb<local_scalar_t__,\n",
      "                            ^\n",
      "/Users/eunkang/Library/Caches/httpstan/4.10.1/models/jfbkbczi/model_jfbkbczi.cpp:357:12: note: in instantiation of function template specialization 'model_jfbkbczi_namespace::model_jfbkbczi::log_prob_impl<false, false, Eigen::Matrix<stan::math::var_value<double>, -1, 1, 0>, Eigen::Matrix<int, -1, 1, 0>, nullptr, nullptr>' requested here\n",
      "    return log_prob_impl<propto__, jacobian__>(params_r, params_i, pstream);\n",
      "           ^\n",
      "/Users/eunkang/opt/anaconda3/envs/stan/lib/python3.9/site-packages/httpstan/include/stan/model/model_base_crtp.hpp:98:50: note: in instantiation of function template specialization 'model_jfbkbczi_namespace::model_jfbkbczi::log_prob<false, false, stan::math::var_value<double>>' requested here\n",
      "    return static_cast<const M*>(this)->template log_prob<false, false>(theta,\n",
      "                                                 ^\n",
      "/Users/eunkang/Library/Caches/httpstan/4.10.1/models/jfbkbczi/model_jfbkbczi.cpp:28:3: note: in instantiation of member function 'stan::model::model_base_crtp<model_jfbkbczi_namespace::model_jfbkbczi>::log_prob' requested here\n",
      "  ~model_jfbkbczi() {}\n",
      "  ^\n"
     ]
    },
    {
     "name": "stdout",
     "output_type": "stream",
     "text": [
      "\u001b[1A\u001b[0J\u001b[36mBuilding:\u001b[0m 8.9s\n",
      "\u001b[1A\u001b[0J\u001b[36mBuilding:\u001b[0m 9.0s\n",
      "\u001b[1A\u001b[0J\u001b[36mBuilding:\u001b[0m 9.1s\n",
      "\u001b[1A\u001b[0J\u001b[36mBuilding:\u001b[0m 9.2s\n",
      "\u001b[1A\u001b[0J\u001b[36mBuilding:\u001b[0m 9.3s\n",
      "\u001b[1A\u001b[0J\u001b[36mBuilding:\u001b[0m 9.4s\n",
      "\u001b[1A\u001b[0J\u001b[36mBuilding:\u001b[0m 9.6s\n",
      "\u001b[1A\u001b[0J\u001b[36mBuilding:\u001b[0m 9.7s\n",
      "\u001b[1A\u001b[0J\u001b[36mBuilding:\u001b[0m 9.8s\n",
      "\u001b[1A\u001b[0J\u001b[36mBuilding:\u001b[0m 9.9s\n",
      "\u001b[1A\u001b[0J\u001b[36mBuilding:\u001b[0m 10.0s\n",
      "\u001b[1A\u001b[0J\u001b[36mBuilding:\u001b[0m 10.1s\n",
      "\u001b[1A\u001b[0J\u001b[36mBuilding:\u001b[0m 10.2s\n",
      "\u001b[1A\u001b[0J\u001b[36mBuilding:\u001b[0m 10.3s\n",
      "\u001b[1A\u001b[0J\u001b[36mBuilding:\u001b[0m 10.4s\n",
      "\u001b[1A\u001b[0J\u001b[36mBuilding:\u001b[0m 10.5s\n",
      "\u001b[1A\u001b[0J\u001b[36mBuilding:\u001b[0m 10.6s\n",
      "\u001b[1A\u001b[0J\u001b[36mBuilding:\u001b[0m 10.7s\n",
      "\u001b[1A\u001b[0J\u001b[36mBuilding:\u001b[0m 10.8s\n",
      "\u001b[1A\u001b[0J\u001b[36mBuilding:\u001b[0m 10.9s\n",
      "\u001b[1A\u001b[0J\u001b[36mBuilding:\u001b[0m 11.0s\n",
      "\u001b[1A\u001b[0J\u001b[36mBuilding:\u001b[0m 11.1s\n",
      "\u001b[1A\u001b[0J\u001b[36mBuilding:\u001b[0m 11.2s\n",
      "\u001b[1A\u001b[0J\u001b[36mBuilding:\u001b[0m 11.3s\n",
      "\u001b[1A\u001b[0J\u001b[36mBuilding:\u001b[0m 11.4s\n",
      "\u001b[1A\u001b[0J\u001b[36mBuilding:\u001b[0m 11.5s\n",
      "\u001b[1A\u001b[0J\u001b[36mBuilding:\u001b[0m 11.6s\n",
      "\u001b[1A\u001b[0J\u001b[36mBuilding:\u001b[0m 11.7s\n",
      "\u001b[1A\u001b[0J\u001b[36mBuilding:\u001b[0m 11.8s\n",
      "\u001b[1A\u001b[0J\u001b[36mBuilding:\u001b[0m 11.9s\n",
      "\u001b[1A\u001b[0J\u001b[36mBuilding:\u001b[0m 12.0s\n",
      "\u001b[1A\u001b[0J\u001b[36mBuilding:\u001b[0m 12.1s\n",
      "\u001b[1A\u001b[0J\u001b[36mBuilding:\u001b[0m 12.2s\n",
      "\u001b[1A\u001b[0J\u001b[36mBuilding:\u001b[0m 12.3s\n",
      "\u001b[1A\u001b[0J"
     ]
    },
    {
     "name": "stderr",
     "output_type": "stream",
     "text": [
      "21 warnings generated.\n",
      "ld: warning: object file (/Users/eunkang/opt/anaconda3/envs/stan/lib/python3.9/site-packages/httpstan/stan_services.o) was built for newer macOS version (11.0) than being linked (10.9)\n",
      "ld: warning: dylib (/Users/eunkang/opt/anaconda3/envs/stan/lib/python3.9/site-packages/httpstan/lib/libtbb.dylib) was built for newer macOS version (10.11) than being linked (10.9)\n",
      "ld: warning: dylib (/Users/eunkang/opt/anaconda3/envs/stan/lib/python3.9/site-packages/httpstan/lib/libtbbmalloc_proxy.dylib) was built for newer macOS version (10.11) than being linked (10.9)\n",
      "ld: warning: dylib (/Users/eunkang/opt/anaconda3/envs/stan/lib/python3.9/site-packages/httpstan/lib/libtbbmalloc.dylib) was built for newer macOS version (10.11) than being linked (10.9)\n",
      "ld: warning: object file (/Users/eunkang/opt/anaconda3/envs/stan/lib/python3.9/site-packages/httpstan/lib/libsundials_nvecserial.a(nvector_serial.o)) was built for newer macOS version (11.0) than being linked (10.9)\n",
      "ld: warning: object file (/Users/eunkang/opt/anaconda3/envs/stan/lib/python3.9/site-packages/httpstan/lib/libsundials_idas.a(idaa.o)) was built for newer macOS version (11.0) than being linked (10.9)\n",
      "ld: warning: object file (/Users/eunkang/opt/anaconda3/envs/stan/lib/python3.9/site-packages/httpstan/lib/libsundials_cvodes.a(cvodea.o)) was built for newer macOS version (11.0) than being linked (10.9)\n",
      "ld: warning: object file (/Users/eunkang/opt/anaconda3/envs/stan/lib/python3.9/site-packages/httpstan/lib/libsundials_idas.a(idaa_io.o)) was built for newer macOS version (11.0) than being linked (10.9)\n",
      "ld: warning: object file (/Users/eunkang/opt/anaconda3/envs/stan/lib/python3.9/site-packages/httpstan/lib/libsundials_cvodes.a(cvodea_io.o)) was built for newer macOS version (11.0) than being linked (10.9)\n",
      "ld: warning: ld: warning: object file (/Users/eunkang/opt/anaconda3/envs/stan/lib/python3.9/site-packages/httpstan/lib/libsundials_cvodes.a(cvodes.o)) was built for newer macOS version (11.0) than being linked (10.9)\n",
      "object file (/Users/eunkang/opt/anaconda3/envs/stan/lib/python3.9/site-packages/httpstan/lib/libsundials_nvecserial.a(sundials_math.o)) was built for newer macOS version (11.0) than being linked (10.9)\n",
      "ld: warning: object file (/Users/eunkang/opt/anaconda3/envs/stan/lib/python3.9/site-packages/httpstan/lib/libsundials_idas.a(idas.o)) was built for newer macOS version (11.0) than being linked (10.9)\n",
      "ld: warning: object file (/Users/eunkang/opt/anaconda3/envs/stan/lib/python3.9/site-packages/httpstan/lib/libsundials_idas.a(idas_bbdpre.o)) was built for newer macOS version (11.0) than being linked (10.9)\n",
      "ld: warning: object file (/Users/eunkang/opt/anaconda3/envs/stan/lib/python3.9/site-packages/httpstan/lib/libsundials_cvodes.a(cvodes_bandpre.o)) was built for newer macOS version (11.0) than being linked (10.9)\n",
      "ld: warning: object file (/Users/eunkang/opt/anaconda3/envs/stan/lib/python3.9/site-packages/httpstan/lib/libsundials_idas.a(idas_direct.o)) was built for newer macOS version (11.0) than being linked (10.9)\n",
      "ld: warning: object file (/Users/eunkang/opt/anaconda3/envs/stan/lib/python3.9/site-packages/httpstan/lib/libsundials_idas.a(idas_ic.o)) was built for newer macOS version (11.0) than being linked (10.9)\n",
      "ld: warning: object file (/Users/eunkang/opt/anaconda3/envs/stan/lib/python3.9/site-packages/httpstan/lib/libsundials_cvodes.a(cvodes_bbdpre.o)) was built for newer macOS version (11.0) than being linked (10.9)\n",
      "ld: warning: object file (/Users/eunkang/opt/anaconda3/envs/stan/lib/python3.9/site-packages/httpstan/lib/libsundials_idas.a(idas_io.o)) was built for newer macOS version (11.0) than being linked (10.9)\n",
      "ld: warning: object file (/Users/eunkang/opt/anaconda3/envs/stan/lib/python3.9/site-packages/httpstan/lib/libsundials_cvodes.a(cvodes_diag.o)) was built for newer macOS version (11.0) than being linked (10.9)\n",
      "ld: warning: object file (/Users/eunkang/opt/anaconda3/envs/stan/lib/python3.9/site-packages/httpstan/lib/libsundials_cvodes.a(cvodes_direct.o)) was built for newer macOS version (11.0) than being linked (10.9)\n",
      "ld: warning: object file (/Users/eunkang/opt/anaconda3/envs/stan/lib/python3.9/site-packages/httpstan/lib/libsundials_cvodes.a(cvodes_io.o)) was built for newer macOS version (11.0) than being linked (10.9)\n",
      "ld: warning: object file (/Users/eunkang/opt/anaconda3/envs/stan/lib/python3.9/site-packages/httpstan/lib/libsundials_idas.a(idas_ls.o)) was built for newer macOS version (11.0) than being linked (10.9)\n",
      "ld: warning: object file (/Users/eunkang/opt/anaconda3/envs/stan/lib/python3.9/site-packages/httpstan/lib/libsundials_cvodes.a(cvodes_ls.o)) was built for newer macOS version (11.0) than being linked (10.9)\n",
      "ld: warning: object file (/Users/eunkang/opt/anaconda3/envs/stan/lib/python3.9/site-packages/httpstan/lib/libsundials_idas.a(idas_nls.o)) was built for newer macOS version (11.0) than being linked (10.9)\n",
      "ld: warning: object file (/Users/eunkang/opt/anaconda3/envs/stan/lib/python3.9/site-packages/httpstan/lib/libsundials_idas.a(idas_nls_sim.o)) was built for newer macOS version (11.0) than being linked (10.9)\n",
      "ld: warning: object file (/Users/eunkang/opt/anaconda3/envs/stan/lib/python3.9/site-packages/httpstan/lib/libsundials_idas.a(idas_nls_stg.o)) was built for newer macOS version (11.0) than being linked (10.9)\n",
      "ld: warning: object file (/Users/eunkang/opt/anaconda3/envs/stan/lib/python3.9/site-packages/httpstan/lib/libsundials_cvodes.a(cvodes_nls.o)) was built for newer macOS version (11.0) than being linked (10.9)\n",
      "ld: warning: object file (/Users/eunkang/opt/anaconda3/envs/stan/lib/python3.9/site-packages/httpstan/lib/libsundials_idas.a(idas_spils.o)) was built for newer macOS version (11.0) than being linked (10.9)\n",
      "ld: warning: object file (/Users/eunkang/opt/anaconda3/envs/stan/lib/python3.9/site-packages/httpstan/lib/libsundials_cvodes.a(cvodes_nls_sim.o)) was built for newer macOS version (11.0) than being linked (10.9)\n",
      "ld: warning: object file (/Users/eunkang/opt/anaconda3/envs/stan/lib/python3.9/site-packages/httpstan/lib/libsundials_cvodes.a(cvodes_nls_stg.o)) was built for newer macOS version (11.0) than being linked (10.9)\n",
      "ld: warning: object file (/Users/eunkang/opt/anaconda3/envs/stan/lib/python3.9/site-packages/httpstan/lib/libsundials_idas.a(sundials_band.o)) was built for newer macOS version (11.0) than being linked (10.9)\n",
      "ld: warning: object file (/Users/eunkang/opt/anaconda3/envs/stan/lib/python3.9/site-packages/httpstan/lib/libsundials_idas.a(sundials_context.o)) was built for newer macOS version (11.0) than being linked (10.9)\n",
      "ld: warning: object file (/Users/eunkang/opt/anaconda3/envs/stan/lib/python3.9/site-packages/httpstan/lib/libsundials_cvodes.a(cvodes_nls_stg1.o)) was built for newer macOS version (11.0) than being linked (10.9)\n",
      "ld: warning: object file (/Users/eunkang/opt/anaconda3/envs/stan/lib/python3.9/site-packages/httpstan/lib/libsundials_idas.a(sundials_dense.o)) was built for newer macOS version (11.0) than being linked (10.9)\n",
      "ld: warning: object file (/Users/eunkang/opt/anaconda3/envs/stan/lib/python3.9/site-packages/httpstan/lib/libsundials_cvodes.a(cvodes_spils.o)) was built for newer macOS version (11.0) than being linked (10.9)\n",
      "ld: warning: ld: warning: object file (/Users/eunkang/opt/anaconda3/envs/stan/lib/python3.9/site-packages/httpstan/lib/libsundials_cvodes.a(sundials_band.o)) was built for newer macOS version (11.0) than being linked (10.9)\n",
      "object file (/Users/eunkang/opt/anaconda3/envs/stan/lib/python3.9/site-packages/httpstan/lib/libsundials_idas.a(sundials_direct.o)) was built for newer macOS version (11.0) than being linked (10.9)\n",
      "ld: warning: object file (/Users/eunkang/opt/anaconda3/envs/stan/lib/python3.9/site-packages/httpstan/lib/libsundials_cvodes.a(sundials_context.o)) was built for newer macOS version (11.0) than being linked (10.9)\n",
      "ld: warning: object file (/Users/eunkang/opt/anaconda3/envs/stan/lib/python3.9/site-packages/httpstan/lib/libsundials_cvodes.a(sundials_dense.o)) was built for newer macOS version (11.0) than being linked (10.9)\n",
      "ld: warning: object file (/Users/eunkang/opt/anaconda3/envs/stan/lib/python3.9/site-packages/httpstan/lib/libsundials_idas.a(sundials_futils.o)) was built for newer macOS version (11.0) than being linked (10.9)\n",
      "ld: warning: object file (/Users/eunkang/opt/anaconda3/envs/stan/lib/python3.9/site-packages/httpstan/lib/libsundials_idas.a(sundials_iterative.o)) was built for newer macOS version (11.0) than being linked (10.9)\n",
      "ld: warning: object file (/Users/eunkang/opt/anaconda3/envs/stan/lib/python3.9/site-packages/httpstan/lib/libsundials_cvodes.a(sundials_direct.o)) was built for newer macOS version (11.0) than being linked (10.9)\n",
      "ld: warning: object file (/Users/eunkang/opt/anaconda3/envs/stan/lib/python3.9/site-packages/httpstan/lib/libsundials_idas.a(sundials_linearsolver.o)) was built for newer macOS version (11.0) than being linked (10.9)\n",
      "ld: warning: object file (/Users/eunkang/opt/anaconda3/envs/stan/lib/python3.9/site-packages/httpstan/lib/libsundials_idas.a(sundials_math.o)) was built for newer macOS version (11.0) than being linked (10.9)\n",
      "ld: warning: object file (/Users/eunkang/opt/anaconda3/envs/stan/lib/python3.9/site-packages/httpstan/lib/libsundials_cvodes.a(sundials_futils.o)) was built for newer macOS version (11.0) than being linked (10.9)\n",
      "ld: warning: object file (/Users/eunkang/opt/anaconda3/envs/stan/lib/python3.9/site-packages/httpstan/lib/libsundials_idas.a(sundials_matrix.o)) was built for newer macOS version (11.0) than being linked (10.9)\n",
      "ld: warning: object file (/Users/eunkang/opt/anaconda3/envs/stan/lib/python3.9/site-packages/httpstan/lib/libsundials_cvodes.a(sundials_iterative.o)) was built for newer macOS version (11.0) than being linked (10.9)\n",
      "ld: warning: object file (/Users/eunkang/opt/anaconda3/envs/stan/lib/python3.9/site-packages/httpstan/lib/libsundials_idas.a(sundials_memory.o)) was built for newer macOS version (11.0) than being linked (10.9)\n",
      "ld: warning: object file (/Users/eunkang/opt/anaconda3/envs/stan/lib/python3.9/site-packages/httpstan/lib/libsundials_cvodes.a(sundials_linearsolver.o)) was built for newer macOS version (11.0) than being linked (10.9)\n",
      "ld: warning: object file (/Users/eunkang/opt/anaconda3/envs/stan/lib/python3.9/site-packages/httpstan/lib/libsundials_idas.a(sundials_nonlinearsolver.o)) was built for newer macOS version (11.0) than being linked (10.9)\n",
      "ld: warning: object file (/Users/eunkang/opt/anaconda3/envs/stan/lib/python3.9/site-packages/httpstan/lib/libsundials_cvodes.a(sundials_math.o)) was built for newer macOS version (11.0) than being linked (10.9)\n",
      "ld: warning: object file (/Users/eunkang/opt/anaconda3/envs/stan/lib/python3.9/site-packages/httpstan/lib/libsundials_idas.a(sundials_nvector.o)) was built for newer macOS version (11.0) than being linked (10.9)\n",
      "ld: warning: object file (/Users/eunkang/opt/anaconda3/envs/stan/lib/python3.9/site-packages/httpstan/lib/libsundials_cvodes.a(sundials_matrix.o)) was built for newer macOS version (11.0) than being linked (10.9)\n",
      "ld: warning: object file (/Users/eunkang/opt/anaconda3/envs/stan/lib/python3.9/site-packages/httpstan/lib/libsundials_cvodes.a(sundials_memory.o)) was built for newer macOS version (11.0) than being linked (10.9)\n",
      "ld: warning: object file (/Users/eunkang/opt/anaconda3/envs/stan/lib/python3.9/site-packages/httpstan/lib/libsundials_cvodes.a(sundials_nonlinearsolver.o)) was built for newer macOS version (11.0) than being linked (10.9)\n",
      "ld: warning: object file (/Users/eunkang/opt/anaconda3/envs/stan/lib/python3.9/site-packages/httpstan/lib/libsundials_idas.a(sundials_nvector_senswrapper.o)) was built for newer macOS version (11.0) than being linked (10.9)\n",
      "ld: warning: object file (/Users/eunkang/opt/anaconda3/envs/stan/lib/python3.9/site-packages/httpstan/lib/libsundials_cvodes.a(sundials_nvector.o)) was built for newer macOS version (11.0) than being linked (10.9)\n",
      "ld: warning: object file (/Users/eunkang/opt/anaconda3/envs/stan/lib/python3.9/site-packages/httpstan/lib/libsundials_idas.a(sundials_version.o)) was built for newer macOS version (11.0) than being linked (10.9)\n",
      "ld: warning: object file (/Users/eunkang/opt/anaconda3/envs/stan/lib/python3.9/site-packages/httpstan/lib/libsundials_idas.a(sunmatrix_band.o)) was built for newer macOS version (11.0) than being linked (10.9)\n",
      "ld: warning: object file (/Users/eunkang/opt/anaconda3/envs/stan/lib/python3.9/site-packages/httpstan/lib/libsundials_cvodes.a(sundials_nvector_senswrapper.o)) was built for newer macOS version (11.0) than being linked (10.9)\n",
      "ld: warning: object file (/Users/eunkang/opt/anaconda3/envs/stan/lib/python3.9/site-packages/httpstan/lib/libsundials_idas.a(sunmatrix_dense.o)) was built for newer macOS version (11.0) than being linked (10.9)\n",
      "ld: warning: object file (/Users/eunkang/opt/anaconda3/envs/stan/lib/python3.9/site-packages/httpstan/lib/libsundials_cvodes.a(sundials_version.o)) was built for newer macOS version (11.0) than being linked (10.9)\n",
      "ld: warning: object file (/Users/eunkang/opt/anaconda3/envs/stan/lib/python3.9/site-packages/httpstan/lib/libsundials_idas.a(sunlinsol_band.o)) was built for newer macOS version (11.0) than being linked (10.9)\n",
      "ld: warning: object file (/Users/eunkang/opt/anaconda3/envs/stan/lib/python3.9/site-packages/httpstan/lib/libsundials_cvodes.a(sunmatrix_band.o)) was built for newer macOS version (11.0) than being linked (10.9)\n",
      "ld: warning: object file (/Users/eunkang/opt/anaconda3/envs/stan/lib/python3.9/site-packages/httpstan/lib/libsundials_idas.a(sunlinsol_dense.o)) was built for newer macOS version (11.0) than being linked (10.9)\n",
      "ld: warning: object file (/Users/eunkang/opt/anaconda3/envs/stan/lib/python3.9/site-packages/httpstan/lib/libsundials_idas.a(sunnonlinsol_newton.o)) was built for newer macOS version (11.0) than being linked (10.9)\n",
      "ld: warning: object file (/Users/eunkang/opt/anaconda3/envs/stan/lib/python3.9/site-packages/httpstan/lib/libsundials_cvodes.a(sunmatrix_dense.o)) was built for newer macOS version (11.0) than being linked (10.9)\n",
      "ld: warning: object file (/Users/eunkang/opt/anaconda3/envs/stan/lib/python3.9/site-packages/httpstan/lib/libsundials_idas.a(sunnonlinsol_fixedpoint.o)) was built for newer macOS version (11.0) than being linked (10.9)\n",
      "ld: warning: object file (/Users/eunkang/opt/anaconda3/envs/stan/lib/python3.9/site-packages/httpstan/lib/libsundials_cvodes.a(sunlinsol_band.o)) was built for newer macOS version (11.0) than being linked (10.9)\n",
      "ld: warning: object file (/Users/eunkang/opt/anaconda3/envs/stan/lib/python3.9/site-packages/httpstan/lib/libsundials_cvodes.a(sunlinsol_dense.o)) was built for newer macOS version (11.0) than being linked (10.9)\n",
      "ld: warning: object file (/Users/eunkang/opt/anaconda3/envs/stan/lib/python3.9/site-packages/httpstan/lib/libsundials_cvodes.a(sunnonlinsol_newton.o)) was built for newer macOS version (11.0) than being linked (10.9)\n",
      "ld: warning: object file (/Users/eunkang/opt/anaconda3/envs/stan/lib/python3.9/site-packages/httpstan/lib/libsundials_cvodes.a(sunnonlinsol_fixedpoint.o)) was built for newer macOS version (11.0) than being linked (10.9)\n",
      "ld: warning: direct access in function 'long double boost::math::detail::bessel_j0<long double>(long double)' from file '/Users/eunkang/opt/anaconda3/envs/stan/lib/python3.9/site-packages/httpstan/stan_services.o' to global weak symbol 'long double boost::math::detail::bessel_j0<long double>(long double)::Q2' from file 'build/temp.macosx-10.9-x86_64-cpython-39/Users/eunkang/Library/Caches/httpstan/4.10.1/models/jfbkbczi/model_jfbkbczi.o' means the weak symbol cannot be overridden at runtime. This was likely caused by different translation units being compiled with different visibility settings.\n",
      "ld: warning: direct access in function 'long double boost::math::detail::bessel_j0<long double>(long double)' from file '/Users/eunkang/opt/anaconda3/envs/stan/lib/python3.9/site-packages/httpstan/stan_services.o' to global weak symbol 'long double boost::math::detail::bessel_j0<long double>(long double)::P2' from file 'build/temp.macosx-10.9-x86_64-cpython-39/Users/eunkang/Library/Caches/httpstan/4.10.1/models/jfbkbczi/model_jfbkbczi.o' means the weak symbol cannot be overridden at runtime. This was likely caused by different translation units being compiled with different visibility settings.\n",
      "ld: warning: direct access in function 'long double boost::math::detail::bessel_j0<long double>(long double)' from file '/Users/eunkang/opt/anaconda3/envs/stan/lib/python3.9/site-packages/httpstan/stan_services.o' to global weak symbol 'long double boost::math::detail::bessel_j0<long double>(long double)::Q1' from file 'build/temp.macosx-10.9-x86_64-cpython-39/Users/eunkang/Library/Caches/httpstan/4.10.1/models/jfbkbczi/model_jfbkbczi.o' means the weak symbol cannot be overridden at runtime. This was likely caused by different translation units being compiled with different visibility settings.\n",
      "ld: warning: direct access in function 'long double boost::math::detail::bessel_j0<long double>(long double)' from file '/Users/eunkang/opt/anaconda3/envs/stan/lib/python3.9/site-packages/httpstan/stan_services.o' to global weak symbol 'long double boost::math::detail::bessel_j0<long double>(long double)::P1' from file 'build/temp.macosx-10.9-x86_64-cpython-39/Users/eunkang/Library/Caches/httpstan/4.10.1/models/jfbkbczi/model_jfbkbczi.o' means the weak symbol cannot be overridden at runtime. This was likely caused by different translation units being compiled with different visibility settings.\n",
      "ld: warning: direct access in function 'long double boost::math::detail::bessel_j1<long double>(long double)' from file '/Users/eunkang/opt/anaconda3/envs/stan/lib/python3.9/site-packages/httpstan/stan_services.o' to global weak symbol 'long double boost::math::detail::bessel_j1<long double>(long double)::Q2' from file 'build/temp.macosx-10.9-x86_64-cpython-39/Users/eunkang/Library/Caches/httpstan/4.10.1/models/jfbkbczi/model_jfbkbczi.o' means the weak symbol cannot be overridden at runtime. This was likely caused by different translation units being compiled with different visibility settings.\n",
      "ld: warning: direct access in function 'long double boost::math::detail::bessel_j1<long double>(long double)' from file '/Users/eunkang/opt/anaconda3/envs/stan/lib/python3.9/site-packages/httpstan/stan_services.o' to global weak symbol 'long double boost::math::detail::bessel_j1<long double>(long double)::P2' from file 'build/temp.macosx-10.9-x86_64-cpython-39/Users/eunkang/Library/Caches/httpstan/4.10.1/models/jfbkbczi/model_jfbkbczi.o' means the weak symbol cannot be overridden at runtime. This was likely caused by different translation units being compiled with different visibility settings.\n",
      "ld: warning: direct access in function 'long double boost::math::detail::bessel_j1<long double>(long double)' from file '/Users/eunkang/opt/anaconda3/envs/stan/lib/python3.9/site-packages/httpstan/stan_services.o' to global weak symbol 'long double boost::math::detail::bessel_j1<long double>(long double)::Q1' from file 'build/temp.macosx-10.9-x86_64-cpython-39/Users/eunkang/Library/Caches/httpstan/4.10.1/models/jfbkbczi/model_jfbkbczi.o' means the weak symbol cannot be overridden at runtime. This was likely caused by different translation units being compiled with different visibility settings.\n",
      "ld: warning: direct access in function 'long double boost::math::detail::bessel_j1<long double>(long double)' from file '/Users/eunkang/opt/anaconda3/envs/stan/lib/python3.9/site-packages/httpstan/stan_services.o' to global weak symbol 'long double boost::math::detail::bessel_j1<long double>(long double)::P1' from file 'build/temp.macosx-10.9-x86_64-cpython-39/Users/eunkang/Library/Caches/httpstan/4.10.1/models/jfbkbczi/model_jfbkbczi.o' means the weak symbol cannot be overridden at runtime. This was likely caused by different translation units being compiled with different visibility settings.\n",
      "ld: warning: direct access in function 'long double boost::math::detail::bessel_j1<long double>(long double)' from file '/Users/eunkang/opt/anaconda3/envs/stan/lib/python3.9/site-packages/httpstan/stan_services.o' to global weak symbol 'long double boost::math::detail::bessel_j1<long double>(long double)::QS' from file 'build/temp.macosx-10.9-x86_64-cpython-39/Users/eunkang/Library/Caches/httpstan/4.10.1/models/jfbkbczi/model_jfbkbczi.o' means the weak symbol cannot be overridden at runtime. This was likely caused by different translation units being compiled with different visibility settings.\n",
      "ld: warning: direct access in function 'long double boost::math::detail::bessel_j1<long double>(long double)' from file '/Users/eunkang/opt/anaconda3/envs/stan/lib/python3.9/site-packages/httpstan/stan_services.o' to global weak symbol 'long double boost::math::detail::bessel_j1<long double>(long double)::PS' from file 'build/temp.macosx-10.9-x86_64-cpython-39/Users/eunkang/Library/Caches/httpstan/4.10.1/models/jfbkbczi/model_jfbkbczi.o' means the weak symbol cannot be overridden at runtime. This was likely caused by different translation units being compiled with different visibility settings.\n",
      "ld: warning: direct access in function 'long double boost::math::detail::bessel_j1<long double>(long double)' from file '/Users/eunkang/opt/anaconda3/envs/stan/lib/python3.9/site-packages/httpstan/stan_services.o' to global weak symbol 'long double boost::math::detail::bessel_j1<long double>(long double)::QC' from file 'build/temp.macosx-10.9-x86_64-cpython-39/Users/eunkang/Library/Caches/httpstan/4.10.1/models/jfbkbczi/model_jfbkbczi.o' means the weak symbol cannot be overridden at runtime. This was likely caused by different translation units being compiled with different visibility settings.\n",
      "ld: warning: direct access in function 'long double boost::math::detail::bessel_j1<long double>(long double)' from file '/Users/eunkang/opt/anaconda3/envs/stan/lib/python3.9/site-packages/httpstan/stan_services.o' to global weak symbol 'long double boost::math::detail::bessel_j1<long double>(long double)::PC' from file 'build/temp.macosx-10.9-x86_64-cpython-39/Users/eunkang/Library/Caches/httpstan/4.10.1/models/jfbkbczi/model_jfbkbczi.o' means the weak symbol cannot be overridden at runtime. This was likely caused by different translation units being compiled with different visibility settings.\n",
      "ld: warning: direct access in function 'long double boost::math::detail::igamma_temme_large<long double, boost::math::policies::policy<boost::math::policies::promote_float<false>, boost::math::policies::promote_double<false>, boost::math::policies::default_policy, boost::math::policies::default_policy, boost::math::policies::default_policy, boost::math::policies::default_policy, boost::math::policies::default_policy, boost::math::policies::default_policy, boost::math::policies::default_policy, boost::math::policies::default_policy, boost::math::policies::default_policy, boost::math::policies::default_policy, boost::math::policies::default_policy> >(long double, long double, boost::math::policies::policy<boost::math::policies::promote_float<false>, boost::math::policies::promote_double<false>, boost::math::policies::default_policy, boost::math::policies::default_policy, boost::math::policies::default_policy, boost::math::policies::default_policy, boost::math::policies::default_policy, boost::math::policies::default_policy, boost::math::policies::default_policy, boost::math::policies::default_policy, boost::math::policies::default_policy, boost::math::policies::default_policy, boost::math::policies::default_policy> const&, std::__1::integral_constant<int, 64> const*)' from file '/Users/eunkang/opt/anaconda3/envs/stan/lib/python3.9/site-packages/httpstan/stan_services.o' to global weak symbol 'boost::math::tools::promote_args<long double, float, float, float, float, float>::type boost::math::log1pmx<long double, boost::math::policies::policy<boost::math::policies::promote_float<false>, boost::math::policies::promote_double<false>, boost::math::policies::default_policy, boost::math::policies::default_policy, boost::math::policies::default_policy, boost::math::policies::default_policy, boost::math::policies::default_policy, boost::math::policies::default_policy, boost::math::policies::default_policy, boost::math::policies::default_policy, boost::math::policies::default_policy, boost::math::policies::default_policy, boost::math::policies::default_policy> >(long double, boost::math::policies::policy<boost::math::policies::promote_float<false>, boost::math::policies::promote_double<false>, boost::math::policies::default_policy, boost::math::policies::default_policy, boost::math::policies::default_policy, boost::math::policies::default_policy, boost::math::policies::default_policy, boost::math::policies::default_policy, boost::math::policies::default_policy, boost::math::policies::default_policy, boost::math::policies::default_policy, boost::math::policies::default_policy, boost::math::policies::default_policy> const&)::function' from file 'build/temp.macosx-10.9-x86_64-cpython-39/Users/eunkang/Library/Caches/httpstan/4.10.1/models/jfbkbczi/model_jfbkbczi.o' means the weak symbol cannot be overridden at runtime. This was likely caused by different translation units being compiled with different visibility settings.\n",
      "ld: warning: direct access in function 'long double boost::math::detail::igamma_temme_large<long double, boost::math::policies::policy<boost::math::policies::promote_float<false>, boost::math::policies::promote_double<false>, boost::math::policies::default_policy, boost::math::policies::default_policy, boost::math::policies::default_policy, boost::math::policies::default_policy, boost::math::policies::default_policy, boost::math::policies::default_policy, boost::math::policies::default_policy, boost::math::policies::default_policy, boost::math::policies::default_policy, boost::math::policies::default_policy, boost::math::policies::default_policy> >(long double, long double, boost::math::policies::policy<boost::math::policies::promote_float<false>, boost::math::policies::promote_double<false>, boost::math::policies::default_policy, boost::math::policies::default_policy, boost::math::policies::default_policy, boost::math::policies::default_policy, boost::math::policies::default_policy, boost::math::policies::default_policy, boost::math::policies::default_policy, boost::math::policies::default_policy, boost::math::policies::default_policy, boost::math::policies::default_policy, boost::math::policies::default_policy> const&, std::__1::integral_constant<int, 64> const*)' from file '/Users/eunkang/opt/anaconda3/envs/stan/lib/python3.9/site-packages/httpstan/stan_services.o' to global weak symbol 'boost::math::tools::promote_args<long double, float, float, float, float, float>::type boost::math::log1pmx<long double, boost::math::policies::policy<boost::math::policies::promote_float<false>, boost::math::policies::promote_double<false>, boost::math::policies::default_policy, boost::math::policies::default_policy, boost::math::policies::default_policy, boost::math::policies::default_policy, boost::math::policies::default_policy, boost::math::policies::default_policy, boost::math::policies::default_policy, boost::math::policies::default_policy, boost::math::policies::default_policy, boost::math::policies::default_policy, boost::math::policies::default_policy> >(long double, boost::math::policies::policy<boost::math::policies::promote_float<false>, boost::math::policies::promote_double<false>, boost::math::policies::default_policy, boost::math::policies::default_policy, boost::math::policies::default_policy, boost::math::policies::default_policy, boost::math::policies::default_policy, boost::math::policies::default_policy, boost::math::policies::default_policy, boost::math::policies::default_policy, boost::math::policies::default_policy, boost::math::policies::default_policy, boost::math::policies::default_policy> const&)::function' from file 'build/temp.macosx-10.9-x86_64-cpython-39/Users/eunkang/Library/Caches/httpstan/4.10.1/models/jfbkbczi/model_jfbkbczi.o' means the weak symbol cannot be overridden at runtime. This was likely caused by different translation units being compiled with different visibility settings.\n",
      "ld: warning: direct access in function 'long double boost::math::detail::igamma_temme_large<long double, boost::math::policies::policy<boost::math::policies::promote_float<false>, boost::math::policies::promote_double<false>, boost::math::policies::default_policy, boost::math::policies::default_policy, boost::math::policies::default_policy, boost::math::policies::default_policy, boost::math::policies::default_policy, boost::math::policies::default_policy, boost::math::policies::default_policy, boost::math::policies::default_policy, boost::math::policies::default_policy, boost::math::policies::default_policy, boost::math::policies::default_policy> >(long double, long double, boost::math::policies::policy<boost::math::policies::promote_float<false>, boost::math::policies::promote_double<false>, boost::math::policies::default_policy, boost::math::policies::default_policy, boost::math::policies::default_policy, boost::math::policies::default_policy, boost::math::policies::default_policy, boost::math::policies::default_policy, boost::math::policies::default_policy, boost::math::policies::default_policy, boost::math::policies::default_policy, boost::math::policies::default_policy, boost::math::policies::default_policy> const&, std::__1::integral_constant<int, 64> const*)' from file '/Users/eunkang/opt/anaconda3/envs/stan/lib/python3.9/site-packages/httpstan/stan_services.o' to global weak symbol 'boost::math::tools::promote_args<long double, float, float, float, float, float>::type boost::math::log1pmx<long double, boost::math::policies::policy<boost::math::policies::promote_float<false>, boost::math::policies::promote_double<false>, boost::math::policies::default_policy, boost::math::policies::default_policy, boost::math::policies::default_policy, boost::math::policies::default_policy, boost::math::policies::default_policy, boost::math::policies::default_policy, boost::math::policies::default_policy, boost::math::policies::default_policy, boost::math::policies::default_policy, boost::math::policies::default_policy, boost::math::policies::default_policy> >(long double, boost::math::policies::policy<boost::math::policies::promote_float<false>, boost::math::policies::promote_double<false>, boost::math::policies::default_policy, boost::math::policies::default_policy, boost::math::policies::default_policy, boost::math::policies::default_policy, boost::math::policies::default_policy, boost::math::policies::default_policy, boost::math::policies::default_policy, boost::math::policies::default_policy, boost::math::policies::default_policy, boost::math::policies::default_policy, boost::math::policies::default_policy> const&)::function' from file 'build/temp.macosx-10.9-x86_64-cpython-39/Users/eunkang/Library/Caches/httpstan/4.10.1/models/jfbkbczi/model_jfbkbczi.o' means the weak symbol cannot be overridden at runtime. This was likely caused by different translation units being compiled with different visibility settings.\n",
      "ld: warning: direct access in function 'void boost::throw_exception<boost::math::evaluation_error>(boost::math::evaluation_error const&)' from file '/Users/eunkang/opt/anaconda3/envs/stan/lib/python3.9/site-packages/httpstan/stan_services.o' to global weak symbol 'typeinfo for boost::wrapexcept<boost::math::evaluation_error>' from file 'build/temp.macosx-10.9-x86_64-cpython-39/Users/eunkang/Library/Caches/httpstan/4.10.1/models/jfbkbczi/model_jfbkbczi.o' means the weak symbol cannot be overridden at runtime. This was likely caused by different translation units being compiled with different visibility settings.\n",
      "ld: warning: direct access in function 'boost::wrapexcept<boost::math::evaluation_error>::rethrow() const' from file '/Users/eunkang/opt/anaconda3/envs/stan/lib/python3.9/site-packages/httpstan/stan_services.o' to global weak symbol 'typeinfo for boost::wrapexcept<boost::math::evaluation_error>' from file 'build/temp.macosx-10.9-x86_64-cpython-39/Users/eunkang/Library/Caches/httpstan/4.10.1/models/jfbkbczi/model_jfbkbczi.o' means the weak symbol cannot be overridden at runtime. This was likely caused by different translation units being compiled with different visibility settings.\n",
      "ld: warning: direct access in function 'boost::math::detail::erf_inv_initializer<long double, boost::math::policies::policy<boost::math::policies::promote_float<false>, boost::math::policies::promote_double<false>, boost::math::policies::default_policy, boost::math::policies::default_policy, boost::math::policies::default_policy, boost::math::policies::default_policy, boost::math::policies::default_policy, boost::math::policies::default_policy, boost::math::policies::default_policy, boost::math::policies::default_policy, boost::math::policies::default_policy, boost::math::policies::default_policy, boost::math::policies::default_policy> >::init::do_init()' from file '/Users/eunkang/opt/anaconda3/envs/stan/lib/python3.9/site-packages/httpstan/stan_services.o' to global weak symbol 'boost::math::tools::promote_args<long double, float, float, float, float, float>::type boost::math::erfc_inv<long double, boost::math::policies::policy<boost::math::policies::promote_float<false>, boost::math::policies::promote_double<false>, boost::math::policies::default_policy, boost::math::policies::default_policy, boost::math::policies::default_policy, boost::math::policies::default_policy, boost::math::policies::default_policy, boost::math::policies::default_policy, boost::math::policies::default_policy, boost::math::policies::default_policy, boost::math::policies::default_policy, boost::math::policies::default_policy, boost::math::policies::default_policy> >(long double, boost::math::policies::policy<boost::math::policies::promote_float<false>, boost::math::policies::promote_double<false>, boost::math::policies::default_policy, boost::math::policies::default_policy, boost::math::policies::default_policy, boost::math::policies::default_policy, boost::math::policies::default_policy, boost::math::policies::default_policy, boost::math::policies::default_policy, boost::math::policies::default_policy, boost::math::policies::default_policy, boost::math::policies::default_policy, boost::math::policies::default_policy> const&)::function' from file 'build/temp.macosx-10.9-x86_64-cpython-39/Users/eunkang/Library/Caches/httpstan/4.10.1/models/jfbkbczi/model_jfbkbczi.o' means the weak symbol cannot be overridden at runtime. This was likely caused by different translation units being compiled with different visibility settings.\n",
      "ld: warning: direct access in function 'boost::math::detail::erf_inv_initializer<long double, boost::math::policies::policy<boost::math::policies::promote_float<false>, boost::math::policies::promote_double<false>, boost::math::policies::default_policy, boost::math::policies::default_policy, boost::math::policies::default_policy, boost::math::policies::default_policy, boost::math::policies::default_policy, boost::math::policies::default_policy, boost::math::policies::default_policy, boost::math::policies::default_policy, boost::math::policies::default_policy, boost::math::policies::default_policy, boost::math::policies::default_policy> >::init::do_init()' from file '/Users/eunkang/opt/anaconda3/envs/stan/lib/python3.9/site-packages/httpstan/stan_services.o' to global weak symbol 'boost::math::tools::promote_args<long double, float, float, float, float, float>::type boost::math::erfc_inv<long double, boost::math::policies::policy<boost::math::policies::promote_float<false>, boost::math::policies::promote_double<false>, boost::math::policies::default_policy, boost::math::policies::default_policy, boost::math::policies::default_policy, boost::math::policies::default_policy, boost::math::policies::default_policy, boost::math::policies::default_policy, boost::math::policies::default_policy, boost::math::policies::default_policy, boost::math::policies::default_policy, boost::math::policies::default_policy, boost::math::policies::default_policy> >(long double, boost::math::policies::policy<boost::math::policies::promote_float<false>, boost::math::policies::promote_double<false>, boost::math::policies::default_policy, boost::math::policies::default_policy, boost::math::policies::default_policy, boost::math::policies::default_policy, boost::math::policies::default_policy, boost::math::policies::default_policy, boost::math::policies::default_policy, boost::math::policies::default_policy, boost::math::policies::default_policy, boost::math::policies::default_policy, boost::math::policies::default_policy> const&)::function' from file 'build/temp.macosx-10.9-x86_64-cpython-39/Users/eunkang/Library/Caches/httpstan/4.10.1/models/jfbkbczi/model_jfbkbczi.o' means the weak symbol cannot be overridden at runtime. This was likely caused by different translation units being compiled with different visibility settings.\n",
      "ld: warning: direct access in function 'boost::math::detail::erf_inv_initializer<long double, boost::math::policies::policy<boost::math::policies::promote_float<false>, boost::math::policies::promote_double<false>, boost::math::policies::default_policy, boost::math::policies::default_policy, boost::math::policies::default_policy, boost::math::policies::default_policy, boost::math::policies::default_policy, boost::math::policies::default_policy, boost::math::policies::default_policy, boost::math::policies::default_policy, boost::math::policies::default_policy, boost::math::policies::default_policy, boost::math::policies::default_policy> >::init::do_init()' from file '/Users/eunkang/opt/anaconda3/envs/stan/lib/python3.9/site-packages/httpstan/stan_services.o' to global weak symbol 'boost::math::tools::promote_args<long double, float, float, float, float, float>::type boost::math::erfc_inv<long double, boost::math::policies::policy<boost::math::policies::promote_float<false>, boost::math::policies::promote_double<false>, boost::math::policies::default_policy, boost::math::policies::default_policy, boost::math::policies::default_policy, boost::math::policies::default_policy, boost::math::policies::default_policy, boost::math::policies::default_policy, boost::math::policies::default_policy, boost::math::policies::default_policy, boost::math::policies::default_policy, boost::math::policies::default_policy, boost::math::policies::default_policy> >(long double, boost::math::policies::policy<boost::math::policies::promote_float<false>, boost::math::policies::promote_double<false>, boost::math::policies::default_policy, boost::math::policies::default_policy, boost::math::policies::default_policy, boost::math::policies::default_policy, boost::math::policies::default_policy, boost::math::policies::default_policy, boost::math::policies::default_policy, boost::math::policies::default_policy, boost::math::policies::default_policy, boost::math::policies::default_policy, boost::math::policies::default_policy> const&)::function' from file 'build/temp.macosx-10.9-x86_64-cpython-39/Users/eunkang/Library/Caches/httpstan/4.10.1/models/jfbkbczi/model_jfbkbczi.o' means the weak symbol cannot be overridden at runtime. This was likely caused by different translation units being compiled with different visibility settings.\n",
      "ld: warning: direct access in function 'boost::math::detail::erf_inv_initializer<long double, boost::math::policies::policy<boost::math::policies::promote_float<false>, boost::math::policies::promote_double<false>, boost::math::policies::default_policy, boost::math::policies::default_policy, boost::math::policies::default_policy, boost::math::policies::default_policy, boost::math::policies::default_policy, boost::math::policies::default_policy, boost::math::policies::default_policy, boost::math::policies::default_policy, boost::math::policies::default_policy, boost::math::policies::default_policy, boost::math::policies::default_policy> >::init::do_init()' from file '/Users/eunkang/opt/anaconda3/envs/stan/lib/python3.9/site-packages/httpstan/stan_services.o' to global weak symbol 'boost::math::tools::promote_args<long double, float, float, float, float, float>::type boost::math::erfc_inv<long double, boost::math::policies::policy<boost::math::policies::promote_float<false>, boost::math::policies::promote_double<false>, boost::math::policies::default_policy, boost::math::policies::default_policy, boost::math::policies::default_policy, boost::math::policies::default_policy, boost::math::policies::default_policy, boost::math::policies::default_policy, boost::math::policies::default_policy, boost::math::policies::default_policy, boost::math::policies::default_policy, boost::math::policies::default_policy, boost::math::policies::default_policy> >(long double, boost::math::policies::policy<boost::math::policies::promote_float<false>, boost::math::policies::promote_double<false>, boost::math::policies::default_policy, boost::math::policies::default_policy, boost::math::policies::default_policy, boost::math::policies::default_policy, boost::math::policies::default_policy, boost::math::policies::default_policy, boost::math::policies::default_policy, boost::math::policies::default_policy, boost::math::policies::default_policy, boost::math::policies::default_policy, boost::math::policies::default_policy> const&)::function' from file 'build/temp.macosx-10.9-x86_64-cpython-39/Users/eunkang/Library/Caches/httpstan/4.10.1/models/jfbkbczi/model_jfbkbczi.o' means the weak symbol cannot be overridden at runtime. This was likely caused by different translation units being compiled with different visibility settings.\n",
      "ld: warning: direct access in function 'boost::math::detail::erf_inv_initializer<long double, boost::math::policies::policy<boost::math::policies::promote_float<false>, boost::math::policies::promote_double<false>, boost::math::policies::default_policy, boost::math::policies::default_policy, boost::math::policies::default_policy, boost::math::policies::default_policy, boost::math::policies::default_policy, boost::math::policies::default_policy, boost::math::policies::default_policy, boost::math::policies::default_policy, boost::math::policies::default_policy, boost::math::policies::default_policy, boost::math::policies::default_policy> >::init::do_init()' from file '/Users/eunkang/opt/anaconda3/envs/stan/lib/python3.9/site-packages/httpstan/stan_services.o' to global weak symbol 'boost::math::tools::promote_args<long double, float, float, float, float, float>::type boost::math::erf_inv<long double, boost::math::policies::policy<boost::math::policies::promote_float<false>, boost::math::policies::promote_double<false>, boost::math::policies::default_policy, boost::math::policies::default_policy, boost::math::policies::default_policy, boost::math::policies::default_policy, boost::math::policies::default_policy, boost::math::policies::default_policy, boost::math::policies::default_policy, boost::math::policies::default_policy, boost::math::policies::default_policy, boost::math::policies::default_policy, boost::math::policies::default_policy> >(long double, boost::math::policies::policy<boost::math::policies::promote_float<false>, boost::math::policies::promote_double<false>, boost::math::policies::default_policy, boost::math::policies::default_policy, boost::math::policies::default_policy, boost::math::policies::default_policy, boost::math::policies::default_policy, boost::math::policies::default_policy, boost::math::policies::default_policy, boost::math::policies::default_policy, boost::math::policies::default_policy, boost::math::policies::default_policy, boost::math::policies::default_policy> const&)::function' from file 'build/temp.macosx-10.9-x86_64-cpython-39/Users/eunkang/Library/Caches/httpstan/4.10.1/models/jfbkbczi/model_jfbkbczi.o' means the weak symbol cannot be overridden at runtime. This was likely caused by different translation units being compiled with different visibility settings.\n",
      "ld: warning: direct access in function 'boost::math::detail::erf_inv_initializer<long double, boost::math::policies::policy<boost::math::policies::promote_float<false>, boost::math::policies::promote_double<false>, boost::math::policies::default_policy, boost::math::policies::default_policy, boost::math::policies::default_policy, boost::math::policies::default_policy, boost::math::policies::default_policy, boost::math::policies::default_policy, boost::math::policies::default_policy, boost::math::policies::default_policy, boost::math::policies::default_policy, boost::math::policies::default_policy, boost::math::policies::default_policy> >::init::do_init()' from file '/Users/eunkang/opt/anaconda3/envs/stan/lib/python3.9/site-packages/httpstan/stan_services.o' to global weak symbol 'boost::math::tools::promote_args<long double, float, float, float, float, float>::type boost::math::erf_inv<long double, boost::math::policies::policy<boost::math::policies::promote_float<false>, boost::math::policies::promote_double<false>, boost::math::policies::default_policy, boost::math::policies::default_policy, boost::math::policies::default_policy, boost::math::policies::default_policy, boost::math::policies::default_policy, boost::math::policies::default_policy, boost::math::policies::default_policy, boost::math::policies::default_policy, boost::math::policies::default_policy, boost::math::policies::default_policy, boost::math::policies::default_policy> >(long double, boost::math::policies::policy<boost::math::policies::promote_float<false>, boost::math::policies::promote_double<false>, boost::math::policies::default_policy, boost::math::policies::default_policy, boost::math::policies::default_policy, boost::math::policies::default_policy, boost::math::policies::default_policy, boost::math::policies::default_policy, boost::math::policies::default_policy, boost::math::policies::default_policy, boost::math::policies::default_policy, boost::math::policies::default_policy, boost::math::policies::default_policy> const&)::function' from file 'build/temp.macosx-10.9-x86_64-cpython-39/Users/eunkang/Library/Caches/httpstan/4.10.1/models/jfbkbczi/model_jfbkbczi.o' means the weak symbol cannot be overridden at runtime. This was likely caused by different translation units being compiled with different visibility settings.\n",
      "ld: warning: direct access in function 'boost::math::detail::erf_inv_initializer<long double, boost::math::policies::policy<boost::math::policies::promote_float<false>, boost::math::policies::promote_double<false>, boost::math::policies::default_policy, boost::math::policies::default_policy, boost::math::policies::default_policy, boost::math::policies::default_policy, boost::math::policies::default_policy, boost::math::policies::default_policy, boost::math::policies::default_policy, boost::math::policies::default_policy, boost::math::policies::default_policy, boost::math::policies::default_policy, boost::math::policies::default_policy> >::init::do_init()' from file '/Users/eunkang/opt/anaconda3/envs/stan/lib/python3.9/site-packages/httpstan/stan_services.o' to global weak symbol 'boost::math::tools::promote_args<long double, float, float, float, float, float>::type boost::math::erf_inv<long double, boost::math::policies::policy<boost::math::policies::promote_float<false>, boost::math::policies::promote_double<false>, boost::math::policies::default_policy, boost::math::policies::default_policy, boost::math::policies::default_policy, boost::math::policies::default_policy, boost::math::policies::default_policy, boost::math::policies::default_policy, boost::math::policies::default_policy, boost::math::policies::default_policy, boost::math::policies::default_policy, boost::math::policies::default_policy, boost::math::policies::default_policy> >(long double, boost::math::policies::policy<boost::math::policies::promote_float<false>, boost::math::policies::promote_double<false>, boost::math::policies::default_policy, boost::math::policies::default_policy, boost::math::policies::default_policy, boost::math::policies::default_policy, boost::math::policies::default_policy, boost::math::policies::default_policy, boost::math::policies::default_policy, boost::math::policies::default_policy, boost::math::policies::default_policy, boost::math::policies::default_policy, boost::math::policies::default_policy> const&)::function' from file 'build/temp.macosx-10.9-x86_64-cpython-39/Users/eunkang/Library/Caches/httpstan/4.10.1/models/jfbkbczi/model_jfbkbczi.o' means the weak symbol cannot be overridden at runtime. This was likely caused by different translation units being compiled with different visibility settings.\n",
      "ld: warning: direct access in function 'long double boost::math::detail::bessel_k0_imp<long double>(long double const&, std::__1::integral_constant<int, 64> const&)' from file '/Users/eunkang/opt/anaconda3/envs/stan/lib/python3.9/site-packages/httpstan/stan_services.o' to global weak symbol 'long double boost::math::detail::bessel_k0_imp<long double>(long double const&, std::__1::integral_constant<int, 64> const&)::Q' from file 'build/temp.macosx-10.9-x86_64-cpython-39/Users/eunkang/Library/Caches/httpstan/4.10.1/models/jfbkbczi/model_jfbkbczi.o' means the weak symbol cannot be overridden at runtime. This was likely caused by different translation units being compiled with different visibility settings.\n",
      "ld: warning: direct access in function 'long double boost::math::detail::bessel_k0_imp<long double>(long double const&, std::__1::integral_constant<int, 64> const&)' from file '/Users/eunkang/opt/anaconda3/envs/stan/lib/python3.9/site-packages/httpstan/stan_services.o' to global weak symbol 'long double boost::math::detail::bessel_k0_imp<long double>(long double const&, std::__1::integral_constant<int, 64> const&)::P' from file 'build/temp.macosx-10.9-x86_64-cpython-39/Users/eunkang/Library/Caches/httpstan/4.10.1/models/jfbkbczi/model_jfbkbczi.o' means the weak symbol cannot be overridden at runtime. This was likely caused by different translation units being compiled with different visibility settings.\n",
      "ld: warning: direct access in function 'long double boost::math::detail::bessel_k0_imp<long double>(long double const&, std::__1::integral_constant<int, 64> const&)' from file '/Users/eunkang/opt/anaconda3/envs/stan/lib/python3.9/site-packages/httpstan/stan_services.o' to global weak symbol 'long double boost::math::detail::bessel_k0_imp<long double>(long double const&, std::__1::integral_constant<int, 64> const&)::Q' from file 'build/temp.macosx-10.9-x86_64-cpython-39/Users/eunkang/Library/Caches/httpstan/4.10.1/models/jfbkbczi/model_jfbkbczi.o' means the weak symbol cannot be overridden at runtime. This was likely caused by different translation units being compiled with different visibility settings.\n",
      "ld: warning: direct access in function 'long double boost::math::detail::bessel_k0_imp<long double>(long double const&, std::__1::integral_constant<int, 64> const&)' from file '/Users/eunkang/opt/anaconda3/envs/stan/lib/python3.9/site-packages/httpstan/stan_services.o' to global weak symbol 'long double boost::math::detail::bessel_k0_imp<long double>(long double const&, std::__1::integral_constant<int, 64> const&)::P' from file 'build/temp.macosx-10.9-x86_64-cpython-39/Users/eunkang/Library/Caches/httpstan/4.10.1/models/jfbkbczi/model_jfbkbczi.o' means the weak symbol cannot be overridden at runtime. This was likely caused by different translation units being compiled with different visibility settings.\n",
      "ld: warning: direct access in function '___cxx_global_var_init.32' from file '/Users/eunkang/opt/anaconda3/envs/stan/lib/python3.9/site-packages/httpstan/stan_services.o' to global weak symbol 'guard variable for boost::math::detail::bessel_j0_initializer<long double>::initializer' from file 'build/temp.macosx-10.9-x86_64-cpython-39/Users/eunkang/Library/Caches/httpstan/4.10.1/models/jfbkbczi/model_jfbkbczi.o' means the weak symbol cannot be overridden at runtime. This was likely caused by different translation units being compiled with different visibility settings.\n",
      "ld: warning: direct access in function '___cxx_global_var_init.32' from file '/Users/eunkang/opt/anaconda3/envs/stan/lib/python3.9/site-packages/httpstan/stan_services.o' to global weak symbol 'guard variable for boost::math::detail::bessel_j0_initializer<long double>::initializer' from file 'build/temp.macosx-10.9-x86_64-cpython-39/Users/eunkang/Library/Caches/httpstan/4.10.1/models/jfbkbczi/model_jfbkbczi.o' means the weak symbol cannot be overridden at runtime. This was likely caused by different translation units being compiled with different visibility settings.\n",
      "ld: warning: direct access in function '___cxx_global_var_init.33' from file '/Users/eunkang/opt/anaconda3/envs/stan/lib/python3.9/site-packages/httpstan/stan_services.o' to global weak symbol 'guard variable for boost::math::detail::bessel_j1_initializer<long double>::initializer' from file 'build/temp.macosx-10.9-x86_64-cpython-39/Users/eunkang/Library/Caches/httpstan/4.10.1/models/jfbkbczi/model_jfbkbczi.o' means the weak symbol cannot be overridden at runtime. This was likely caused by different translation units being compiled with different visibility settings.\n",
      "ld: warning: direct access in function '___cxx_global_var_init.33' from file '/Users/eunkang/opt/anaconda3/envs/stan/lib/python3.9/site-packages/httpstan/stan_services.o' to global weak symbol 'guard variable for boost::math::detail::bessel_j1_initializer<long double>::initializer' from file 'build/temp.macosx-10.9-x86_64-cpython-39/Users/eunkang/Library/Caches/httpstan/4.10.1/models/jfbkbczi/model_jfbkbczi.o' means the weak symbol cannot be overridden at runtime. This was likely caused by different translation units being compiled with different visibility settings.\n",
      "ld: warning: direct access in function '___cxx_global_var_init.34' from file '/Users/eunkang/opt/anaconda3/envs/stan/lib/python3.9/site-packages/httpstan/stan_services.o' to global weak symbol 'guard variable for boost::math::lanczos::lanczos_initializer<boost::math::lanczos::lanczos17m64, long double>::initializer' from file 'build/temp.macosx-10.9-x86_64-cpython-39/Users/eunkang/Library/Caches/httpstan/4.10.1/models/jfbkbczi/model_jfbkbczi.o' means the weak symbol cannot be overridden at runtime. This was likely caused by different translation units being compiled with different visibility settings.\n",
      "ld: warning: direct access in function '___cxx_global_var_init.34' from file '/Users/eunkang/opt/anaconda3/envs/stan/lib/python3.9/site-packages/httpstan/stan_services.o' to global weak symbol 'long double boost::math::lanczos::lanczos17m64::lanczos_sum_expG_scaled<long double>(long double const&)::denom' from file 'build/temp.macosx-10.9-x86_64-cpython-39/Users/eunkang/Library/Caches/httpstan/4.10.1/models/jfbkbczi/model_jfbkbczi.o' means the weak symbol cannot be overridden at runtime. This was likely caused by different translation units being compiled with different visibility settings.\n",
      "ld: warning: direct access in function '___cxx_global_var_init.34' from file '/Users/eunkang/opt/anaconda3/envs/stan/lib/python3.9/site-packages/httpstan/stan_services.o' to global weak symbol 'long double boost::math::lanczos::lanczos17m64::lanczos_sum_expG_scaled<long double>(long double const&)::num' from file 'build/temp.macosx-10.9-x86_64-cpython-39/Users/eunkang/Library/Caches/httpstan/4.10.1/models/jfbkbczi/model_jfbkbczi.o' means the weak symbol cannot be overridden at runtime. This was likely caused by different translation units being compiled with different visibility settings.\n",
      "ld: warning: direct access in function '___cxx_global_var_init.34' from file '/Users/eunkang/opt/anaconda3/envs/stan/lib/python3.9/site-packages/httpstan/stan_services.o' to global weak symbol 'long double boost::math::lanczos::lanczos17m64::lanczos_sum<long double>(long double const&)::denom' from file 'build/temp.macosx-10.9-x86_64-cpython-39/Users/eunkang/Library/Caches/httpstan/4.10.1/models/jfbkbczi/model_jfbkbczi.o' means the weak symbol cannot be overridden at runtime. This was likely caused by different translation units being compiled with different visibility settings.\n",
      "ld: warning: direct access in function '___cxx_global_var_init.34' from file '/Users/eunkang/opt/anaconda3/envs/stan/lib/python3.9/site-packages/httpstan/stan_services.o' to global weak symbol 'long double boost::math::lanczos::lanczos17m64::lanczos_sum<long double>(long double const&)::num' from file 'build/temp.macosx-10.9-x86_64-cpython-39/Users/eunkang/Library/Caches/httpstan/4.10.1/models/jfbkbczi/model_jfbkbczi.o' means the weak symbol cannot be overridden at runtime. This was likely caused by different translation units being compiled with different visibility settings.\n",
      "ld: warning: direct access in function '___cxx_global_var_init.34' from file '/Users/eunkang/opt/anaconda3/envs/stan/lib/python3.9/site-packages/httpstan/stan_services.o' to global weak symbol 'guard variable for boost::math::lanczos::lanczos_initializer<boost::math::lanczos::lanczos17m64, long double>::initializer' from file 'build/temp.macosx-10.9-x86_64-cpython-39/Users/eunkang/Library/Caches/httpstan/4.10.1/models/jfbkbczi/model_jfbkbczi.o' means the weak symbol cannot be overridden at runtime. This was likely caused by different translation units being compiled with different visibility settings.\n",
      "ld: warning: direct access in function '___cxx_global_var_init.35' from file '/Users/eunkang/opt/anaconda3/envs/stan/lib/python3.9/site-packages/httpstan/stan_services.o' to global weak symbol 'guard variable for boost::math::detail::lgamma_initializer<long double, boost::math::policies::policy<boost::math::policies::promote_float<false>, boost::math::policies::promote_double<false>, boost::math::policies::default_policy, boost::math::policies::default_policy, boost::math::policies::default_policy, boost::math::policies::default_policy, boost::math::policies::default_policy, boost::math::policies::default_policy, boost::math::policies::default_policy, boost::math::policies::default_policy, boost::math::policies::default_policy, boost::math::policies::default_policy, boost::math::policies::default_policy> >::initializer' from file 'build/temp.macosx-10.9-x86_64-cpython-39/Users/eunkang/Library/Caches/httpstan/4.10.1/models/jfbkbczi/model_jfbkbczi.o' means the weak symbol cannot be overridden at runtime. This was likely caused by different translation units being compiled with different visibility settings.\n",
      "ld: warning: direct access in function '___cxx_global_var_init.35' from file '/Users/eunkang/opt/anaconda3/envs/stan/lib/python3.9/site-packages/httpstan/stan_services.o' to global weak symbol 'guard variable for boost::math::detail::lgamma_initializer<long double, boost::math::policies::policy<boost::math::policies::promote_float<false>, boost::math::policies::promote_double<false>, boost::math::policies::default_policy, boost::math::policies::default_policy, boost::math::policies::default_policy, boost::math::policies::default_policy, boost::math::policies::default_policy, boost::math::policies::default_policy, boost::math::policies::default_policy, boost::math::policies::default_policy, boost::math::policies::default_policy, boost::math::policies::default_policy, boost::math::policies::default_policy> >::initializer' from file 'build/temp.macosx-10.9-x86_64-cpython-39/Users/eunkang/Library/Caches/httpstan/4.10.1/models/jfbkbczi/model_jfbkbczi.o' means the weak symbol cannot be overridden at runtime. This was likely caused by different translation units being compiled with different visibility settings.\n",
      "ld: warning: direct access in function '___cxx_global_var_init.36' from file '/Users/eunkang/opt/anaconda3/envs/stan/lib/python3.9/site-packages/httpstan/stan_services.o' to global weak symbol 'guard variable for boost::math::detail::bessel_y0_initializer<long double, boost::math::policies::policy<boost::math::policies::promote_float<false>, boost::math::policies::promote_double<false>, boost::math::policies::default_policy, boost::math::policies::default_policy, boost::math::policies::default_policy, boost::math::policies::default_policy, boost::math::policies::default_policy, boost::math::policies::default_policy, boost::math::policies::default_policy, boost::math::policies::default_policy, boost::math::policies::default_policy, boost::math::policies::default_policy, boost::math::policies::default_policy> >::initializer' from file 'build/temp.macosx-10.9-x86_64-cpython-39/Users/eunkang/Library/Caches/httpstan/4.10.1/models/jfbkbczi/model_jfbkbczi.o' means the weak symbol cannot be overridden at runtime. This was likely caused by different translation units being compiled with different visibility settings.\n",
      "ld: warning: direct access in function '___cxx_global_var_init.36' from file '/Users/eunkang/opt/anaconda3/envs/stan/lib/python3.9/site-packages/httpstan/stan_services.o' to global weak symbol 'guard variable for boost::math::detail::bessel_y0_initializer<long double, boost::math::policies::policy<boost::math::policies::promote_float<false>, boost::math::policies::promote_double<false>, boost::math::policies::default_policy, boost::math::policies::default_policy, boost::math::policies::default_policy, boost::math::policies::default_policy, boost::math::policies::default_policy, boost::math::policies::default_policy, boost::math::policies::default_policy, boost::math::policies::default_policy, boost::math::policies::default_policy, boost::math::policies::default_policy, boost::math::policies::default_policy> >::initializer' from file 'build/temp.macosx-10.9-x86_64-cpython-39/Users/eunkang/Library/Caches/httpstan/4.10.1/models/jfbkbczi/model_jfbkbczi.o' means the weak symbol cannot be overridden at runtime. This was likely caused by different translation units being compiled with different visibility settings.\n",
      "ld: warning: direct access in function '___cxx_global_var_init.37' from file '/Users/eunkang/opt/anaconda3/envs/stan/lib/python3.9/site-packages/httpstan/stan_services.o' to global weak symbol 'guard variable for boost::math::detail::bessel_y1_initializer<long double, boost::math::policies::policy<boost::math::policies::promote_float<false>, boost::math::policies::promote_double<false>, boost::math::policies::default_policy, boost::math::policies::default_policy, boost::math::policies::default_policy, boost::math::policies::default_policy, boost::math::policies::default_policy, boost::math::policies::default_policy, boost::math::policies::default_policy, boost::math::policies::default_policy, boost::math::policies::default_policy, boost::math::policies::default_policy, boost::math::policies::default_policy> >::initializer' from file 'build/temp.macosx-10.9-x86_64-cpython-39/Users/eunkang/Library/Caches/httpstan/4.10.1/models/jfbkbczi/model_jfbkbczi.o' means the weak symbol cannot be overridden at runtime. This was likely caused by different translation units being compiled with different visibility settings.\n",
      "ld: warning: direct access in function '___cxx_global_var_init.37' from file '/Users/eunkang/opt/anaconda3/envs/stan/lib/python3.9/site-packages/httpstan/stan_services.o' to global weak symbol 'long double boost::math::detail::bessel_y1<long double, boost::math::policies::policy<boost::math::policies::promote_float<false>, boost::math::policies::promote_double<false>, boost::math::policies::default_policy, boost::math::policies::default_policy, boost::math::policies::default_policy, boost::math::policies::default_policy, boost::math::policies::default_policy, boost::math::policies::default_policy, boost::math::policies::default_policy, boost::math::policies::default_policy, boost::math::policies::default_policy, boost::math::policies::default_policy, boost::math::policies::default_policy> >(long double, boost::math::policies::policy<boost::math::policies::promote_float<false>, boost::math::policies::promote_double<false>, boost::math::policies::default_policy, boost::math::policies::default_policy, boost::math::policies::default_policy, boost::math::policies::default_policy, boost::math::policies::default_policy, boost::math::policies::default_policy, boost::math::policies::default_policy, boost::math::policies::default_policy, boost::math::policies::default_policy, boost::math::policies::default_policy, boost::math::policies::default_policy> const&)::Q1' from file 'build/temp.macosx-10.9-x86_64-cpython-39/Users/eunkang/Library/Caches/httpstan/4.10.1/models/jfbkbczi/model_jfbkbczi.o' means the weak symbol cannot be overridden at runtime. This was likely caused by different translation units being compiled with different visibility settings.\n",
      "ld: warning: direct access in function '___cxx_global_var_init.37' from file '/Users/eunkang/opt/anaconda3/envs/stan/lib/python3.9/site-packages/httpstan/stan_services.o' to global weak symbol 'long double boost::math::detail::bessel_y1<long double, boost::math::policies::policy<boost::math::policies::promote_float<false>, boost::math::policies::promote_double<false>, boost::math::policies::default_policy, boost::math::policies::default_policy, boost::math::policies::default_policy, boost::math::policies::default_policy, boost::math::policies::default_policy, boost::math::policies::default_policy, boost::math::policies::default_policy, boost::math::policies::default_policy, boost::math::policies::default_policy, boost::math::policies::default_policy, boost::math::policies::default_policy> >(long double, boost::math::policies::policy<boost::math::policies::promote_float<false>, boost::math::policies::promote_double<false>, boost::math::policies::default_policy, boost::math::policies::default_policy, boost::math::policies::default_policy, boost::math::policies::default_policy, boost::math::policies::default_policy, boost::math::policies::default_policy, boost::math::policies::default_policy, boost::math::policies::default_policy, boost::math::policies::default_policy, boost::math::policies::default_policy, boost::math::policies::default_policy> const&)::P1' from file 'build/temp.macosx-10.9-x86_64-cpython-39/Users/eunkang/Library/Caches/httpstan/4.10.1/models/jfbkbczi/model_jfbkbczi.o' means the weak symbol cannot be overridden at runtime. This was likely caused by different translation units being compiled with different visibility settings.\n",
      "ld: warning: direct access in function '___cxx_global_var_init.37' from file '/Users/eunkang/opt/anaconda3/envs/stan/lib/python3.9/site-packages/httpstan/stan_services.o' to global weak symbol 'guard variable for boost::math::detail::bessel_y1_initializer<long double, boost::math::policies::policy<boost::math::policies::promote_float<false>, boost::math::policies::promote_double<false>, boost::math::policies::default_policy, boost::math::policies::default_policy, boost::math::policies::default_policy, boost::math::policies::default_policy, boost::math::policies::default_policy, boost::math::policies::default_policy, boost::math::policies::default_policy, boost::math::policies::default_policy, boost::math::policies::default_policy, boost::math::policies::default_policy, boost::math::policies::default_policy> >::initializer' from file 'build/temp.macosx-10.9-x86_64-cpython-39/Users/eunkang/Library/Caches/httpstan/4.10.1/models/jfbkbczi/model_jfbkbczi.o' means the weak symbol cannot be overridden at runtime. This was likely caused by different translation units being compiled with different visibility settings.\n",
      "ld: warning: direct access in function '___cxx_global_var_init.38' from file '/Users/eunkang/opt/anaconda3/envs/stan/lib/python3.9/site-packages/httpstan/stan_services.o' to global weak symbol 'guard variable for boost::math::detail::digamma_initializer<double, boost::math::policies::policy<boost::math::policies::pole_error<(boost::math::policies::error_policy_type)1>, boost::math::policies::overflow_error<(boost::math::policies::error_policy_type)1>, boost::math::policies::promote_float<false>, boost::math::policies::promote_double<false>, boost::math::policies::default_policy, boost::math::policies::default_policy, boost::math::policies::default_policy, boost::math::policies::default_policy, boost::math::policies::default_policy, boost::math::policies::default_policy, boost::math::policies::default_policy, boost::math::policies::default_policy, boost::math::policies::default_policy> >::initializer' from file 'build/temp.macosx-10.9-x86_64-cpython-39/Users/eunkang/Library/Caches/httpstan/4.10.1/models/jfbkbczi/model_jfbkbczi.o' means the weak symbol cannot be overridden at runtime. This was likely caused by different translation units being compiled with different visibility settings.\n",
      "ld: warning: direct access in function '___cxx_global_var_init.38' from file '/Users/eunkang/opt/anaconda3/envs/stan/lib/python3.9/site-packages/httpstan/stan_services.o' to global weak symbol 'guard variable for boost::math::detail::digamma_initializer<double, boost::math::policies::policy<boost::math::policies::pole_error<(boost::math::policies::error_policy_type)1>, boost::math::policies::overflow_error<(boost::math::policies::error_policy_type)1>, boost::math::policies::promote_float<false>, boost::math::policies::promote_double<false>, boost::math::policies::default_policy, boost::math::policies::default_policy, boost::math::policies::default_policy, boost::math::policies::default_policy, boost::math::policies::default_policy, boost::math::policies::default_policy, boost::math::policies::default_policy, boost::math::policies::default_policy, boost::math::policies::default_policy> >::initializer' from file 'build/temp.macosx-10.9-x86_64-cpython-39/Users/eunkang/Library/Caches/httpstan/4.10.1/models/jfbkbczi/model_jfbkbczi.o' means the weak symbol cannot be overridden at runtime. This was likely caused by different translation units being compiled with different visibility settings.\n",
      "ld: warning: direct access in function '___cxx_global_var_init.42' from file '/Users/eunkang/opt/anaconda3/envs/stan/lib/python3.9/site-packages/httpstan/stan_services.o' to global weak symbol 'guard variable for boost::math::detail::igamma_initializer<double, boost::math::policies::policy<boost::math::policies::pole_error<(boost::math::policies::error_policy_type)1>, boost::math::policies::overflow_error<(boost::math::policies::error_policy_type)1>, boost::math::policies::promote_float<false>, boost::math::policies::promote_double<false>, boost::math::policies::default_policy, boost::math::policies::default_policy, boost::math::policies::default_policy, boost::math::policies::default_policy, boost::math::policies::default_policy, boost::math::policies::default_policy, boost::math::policies::default_policy, boost::math::policies::default_policy, boost::math::policies::default_policy> >::initializer' from file 'build/temp.macosx-10.9-x86_64-cpython-39/Users/eunkang/Library/Caches/httpstan/4.10.1/models/jfbkbczi/model_jfbkbczi.o' means the weak symbol cannot be overridden at runtime. This was likely caused by different translation units being compiled with different visibility settings.\n",
      "ld: warning: direct access in function '___cxx_global_var_init.42' from file '/Users/eunkang/opt/anaconda3/envs/stan/lib/python3.9/site-packages/httpstan/stan_services.o' to global weak symbol 'guard variable for boost::math::detail::igamma_initializer<double, boost::math::policies::policy<boost::math::policies::pole_error<(boost::math::policies::error_policy_type)1>, boost::math::policies::overflow_error<(boost::math::policies::error_policy_type)1>, boost::math::policies::promote_float<false>, boost::math::policies::promote_double<false>, boost::math::policies::default_policy, boost::math::policies::default_policy, boost::math::policies::default_policy, boost::math::policies::default_policy, boost::math::policies::default_policy, boost::math::policies::default_policy, boost::math::policies::default_policy, boost::math::policies::default_policy, boost::math::policies::default_policy> >::initializer' from file 'build/temp.macosx-10.9-x86_64-cpython-39/Users/eunkang/Library/Caches/httpstan/4.10.1/models/jfbkbczi/model_jfbkbczi.o' means the weak symbol cannot be overridden at runtime. This was likely caused by different translation units being compiled with different visibility settings.\n",
      "ld: warning: direct access in function '___cxx_global_var_init.43' from file '/Users/eunkang/opt/anaconda3/envs/stan/lib/python3.9/site-packages/httpstan/stan_services.o' to global weak symbol 'guard variable for boost::math::detail::lgamma_initializer<double, boost::math::policies::policy<boost::math::policies::pole_error<(boost::math::policies::error_policy_type)1>, boost::math::policies::overflow_error<(boost::math::policies::error_policy_type)1>, boost::math::policies::promote_float<false>, boost::math::policies::promote_double<false>, boost::math::policies::default_policy, boost::math::policies::default_policy, boost::math::policies::default_policy, boost::math::policies::default_policy, boost::math::policies::default_policy, boost::math::policies::default_policy, boost::math::policies::default_policy, boost::math::policies::default_policy, boost::math::policies::default_policy> >::initializer' from file 'build/temp.macosx-10.9-x86_64-cpython-39/Users/eunkang/Library/Caches/httpstan/4.10.1/models/jfbkbczi/model_jfbkbczi.o' means the weak symbol cannot be overridden at runtime. This was likely caused by different translation units being compiled with different visibility settings.\n",
      "ld: warning: direct access in function '___cxx_global_var_init.43' from file '/Users/eunkang/opt/anaconda3/envs/stan/lib/python3.9/site-packages/httpstan/stan_services.o' to global weak symbol 'guard variable for boost::math::detail::lgamma_initializer<double, boost::math::policies::policy<boost::math::policies::pole_error<(boost::math::policies::error_policy_type)1>, boost::math::policies::overflow_error<(boost::math::policies::error_policy_type)1>, boost::math::policies::promote_float<false>, boost::math::policies::promote_double<false>, boost::math::policies::default_policy, boost::math::policies::default_policy, boost::math::policies::default_policy, boost::math::policies::default_policy, boost::math::policies::default_policy, boost::math::policies::default_policy, boost::math::policies::default_policy, boost::math::policies::default_policy, boost::math::policies::default_policy> >::initializer' from file 'build/temp.macosx-10.9-x86_64-cpython-39/Users/eunkang/Library/Caches/httpstan/4.10.1/models/jfbkbczi/model_jfbkbczi.o' means the weak symbol cannot be overridden at runtime. This was likely caused by different translation units being compiled with different visibility settings.\n",
      "ld: warning: direct access in function '___cxx_global_var_init.44' from file '/Users/eunkang/opt/anaconda3/envs/stan/lib/python3.9/site-packages/httpstan/stan_services.o' to global weak symbol 'guard variable for boost::math::detail::erf_initializer<double, boost::math::policies::policy<boost::math::policies::pole_error<(boost::math::policies::error_policy_type)1>, boost::math::policies::overflow_error<(boost::math::policies::error_policy_type)1>, boost::math::policies::promote_float<false>, boost::math::policies::promote_double<false>, boost::math::policies::default_policy, boost::math::policies::default_policy, boost::math::policies::default_policy, boost::math::policies::default_policy, boost::math::policies::default_policy, boost::math::policies::default_policy, boost::math::policies::default_policy, boost::math::policies::default_policy, boost::math::policies::default_policy>, std::__1::integral_constant<int, 53> >::initializer' from file 'build/temp.macosx-10.9-x86_64-cpython-39/Users/eunkang/Library/Caches/httpstan/4.10.1/models/jfbkbczi/model_jfbkbczi.o' means the weak symbol cannot be overridden at runtime. This was likely caused by different translation units being compiled with different visibility settings.\n",
      "ld: warning: direct access in function '___cxx_global_var_init.44' from file '/Users/eunkang/opt/anaconda3/envs/stan/lib/python3.9/site-packages/httpstan/stan_services.o' to global weak symbol 'guard variable for boost::math::detail::erf_initializer<double, boost::math::policies::policy<boost::math::policies::pole_error<(boost::math::policies::error_policy_type)1>, boost::math::policies::overflow_error<(boost::math::policies::error_policy_type)1>, boost::math::policies::promote_float<false>, boost::math::policies::promote_double<false>, boost::math::policies::default_policy, boost::math::policies::default_policy, boost::math::policies::default_policy, boost::math::policies::default_policy, boost::math::policies::default_policy, boost::math::policies::default_policy, boost::math::policies::default_policy, boost::math::policies::default_policy, boost::math::policies::default_policy>, std::__1::integral_constant<int, 53> >::initializer' from file 'build/temp.macosx-10.9-x86_64-cpython-39/Users/eunkang/Library/Caches/httpstan/4.10.1/models/jfbkbczi/model_jfbkbczi.o' means the weak symbol cannot be overridden at runtime. This was likely caused by different translation units being compiled with different visibility settings.\n",
      "ld: warning: direct access in function '___cxx_global_var_init.45' from file '/Users/eunkang/opt/anaconda3/envs/stan/lib/python3.9/site-packages/httpstan/stan_services.o' to global weak symbol 'guard variable for boost::math::detail::expm1_initializer<double, boost::math::policies::policy<boost::math::policies::pole_error<(boost::math::policies::error_policy_type)1>, boost::math::policies::overflow_error<(boost::math::policies::error_policy_type)1>, boost::math::policies::promote_float<false>, boost::math::policies::promote_double<false>, boost::math::policies::default_policy, boost::math::policies::default_policy, boost::math::policies::default_policy, boost::math::policies::default_policy, boost::math::policies::default_policy, boost::math::policies::default_policy, boost::math::policies::default_policy, boost::math::policies::default_policy, boost::math::policies::default_policy>, std::__1::integral_constant<int, 53> >::initializer' from file 'build/temp.macosx-10.9-x86_64-cpython-39/Users/eunkang/Library/Caches/httpstan/4.10.1/models/jfbkbczi/model_jfbkbczi.o' means the weak symbol cannot be overridden at runtime. This was likely caused by different translation units being compiled with different visibility settings.\n",
      "ld: warning: direct access in function '___cxx_global_var_init.45' from file '/Users/eunkang/opt/anaconda3/envs/stan/lib/python3.9/site-packages/httpstan/stan_services.o' to global weak symbol 'guard variable for boost::math::detail::expm1_initializer<double, boost::math::policies::policy<boost::math::policies::pole_error<(boost::math::policies::error_policy_type)1>, boost::math::policies::overflow_error<(boost::math::policies::error_policy_type)1>, boost::math::policies::promote_float<false>, boost::math::policies::promote_double<false>, boost::math::policies::default_policy, boost::math::policies::default_policy, boost::math::policies::default_policy, boost::math::policies::default_policy, boost::math::policies::default_policy, boost::math::policies::default_policy, boost::math::policies::default_policy, boost::math::policies::default_policy, boost::math::policies::default_policy>, std::__1::integral_constant<int, 53> >::initializer' from file 'build/temp.macosx-10.9-x86_64-cpython-39/Users/eunkang/Library/Caches/httpstan/4.10.1/models/jfbkbczi/model_jfbkbczi.o' means the weak symbol cannot be overridden at runtime. This was likely caused by different translation units being compiled with different visibility settings.\n",
      "ld: warning: direct access in function '___cxx_global_var_init.46' from file '/Users/eunkang/opt/anaconda3/envs/stan/lib/python3.9/site-packages/httpstan/stan_services.o' to global weak symbol 'guard variable for boost::math::detail::igamma_initializer<long double, boost::math::policies::policy<boost::math::policies::promote_float<false>, boost::math::policies::promote_double<false>, boost::math::policies::default_policy, boost::math::policies::default_policy, boost::math::policies::default_policy, boost::math::policies::default_policy, boost::math::policies::default_policy, boost::math::policies::default_policy, boost::math::policies::default_policy, boost::math::policies::default_policy, boost::math::policies::default_policy, boost::math::policies::default_policy, boost::math::policies::default_policy> >::initializer' from file 'build/temp.macosx-10.9-x86_64-cpython-39/Users/eunkang/Library/Caches/httpstan/4.10.1/models/jfbkbczi/model_jfbkbczi.o' means the weak symbol cannot be overridden at runtime. This was likely caused by different translation units being compiled with different visibility settings.\n",
      "ld: warning: direct access in function '___cxx_global_var_init.46' from file '/Users/eunkang/opt/anaconda3/envs/stan/lib/python3.9/site-packages/httpstan/stan_services.o' to global weak symbol 'guard variable for boost::math::detail::igamma_initializer<long double, boost::math::policies::policy<boost::math::policies::promote_float<false>, boost::math::policies::promote_double<false>, boost::math::policies::default_policy, boost::math::policies::default_policy, boost::math::policies::default_policy, boost::math::policies::default_policy, boost::math::policies::default_policy, boost::math::policies::default_policy, boost::math::policies::default_policy, boost::math::policies::default_policy, boost::math::policies::default_policy, boost::math::policies::default_policy, boost::math::policies::default_policy> >::initializer' from file 'build/temp.macosx-10.9-x86_64-cpython-39/Users/eunkang/Library/Caches/httpstan/4.10.1/models/jfbkbczi/model_jfbkbczi.o' means the weak symbol cannot be overridden at runtime. This was likely caused by different translation units being compiled with different visibility settings.\n",
      "ld: warning: direct access in function '___cxx_global_var_init.47' from file '/Users/eunkang/opt/anaconda3/envs/stan/lib/python3.9/site-packages/httpstan/stan_services.o' to global weak symbol 'guard variable for boost::math::detail::erf_initializer<long double, boost::math::policies::policy<boost::math::policies::promote_float<false>, boost::math::policies::promote_double<false>, boost::math::policies::default_policy, boost::math::policies::default_policy, boost::math::policies::default_policy, boost::math::policies::default_policy, boost::math::policies::default_policy, boost::math::policies::default_policy, boost::math::policies::default_policy, boost::math::policies::default_policy, boost::math::policies::default_policy, boost::math::policies::default_policy, boost::math::policies::default_policy>, std::__1::integral_constant<int, 64> >::initializer' from file 'build/temp.macosx-10.9-x86_64-cpython-39/Users/eunkang/Library/Caches/httpstan/4.10.1/models/jfbkbczi/model_jfbkbczi.o' means the weak symbol cannot be overridden at runtime. This was likely caused by different translation units being compiled with different visibility settings.\n",
      "ld: warning: direct access in function '___cxx_global_var_init.47' from file '/Users/eunkang/opt/anaconda3/envs/stan/lib/python3.9/site-packages/httpstan/stan_services.o' to global weak symbol 'guard variable for boost::math::detail::erf_initializer<long double, boost::math::policies::policy<boost::math::policies::promote_float<false>, boost::math::policies::promote_double<false>, boost::math::policies::default_policy, boost::math::policies::default_policy, boost::math::policies::default_policy, boost::math::policies::default_policy, boost::math::policies::default_policy, boost::math::policies::default_policy, boost::math::policies::default_policy, boost::math::policies::default_policy, boost::math::policies::default_policy, boost::math::policies::default_policy, boost::math::policies::default_policy>, std::__1::integral_constant<int, 64> >::initializer' from file 'build/temp.macosx-10.9-x86_64-cpython-39/Users/eunkang/Library/Caches/httpstan/4.10.1/models/jfbkbczi/model_jfbkbczi.o' means the weak symbol cannot be overridden at runtime. This was likely caused by different translation units being compiled with different visibility settings.\n",
      "ld: warning: direct access in function '___cxx_global_var_init.48' from file '/Users/eunkang/opt/anaconda3/envs/stan/lib/python3.9/site-packages/httpstan/stan_services.o' to global weak symbol 'guard variable for boost::math::detail::expm1_initializer<long double, boost::math::policies::policy<boost::math::policies::promote_float<false>, boost::math::policies::promote_double<false>, boost::math::policies::default_policy, boost::math::policies::default_policy, boost::math::policies::default_policy, boost::math::policies::default_policy, boost::math::policies::default_policy, boost::math::policies::default_policy, boost::math::policies::default_policy, boost::math::policies::default_policy, boost::math::policies::default_policy, boost::math::policies::default_policy, boost::math::policies::default_policy>, std::__1::integral_constant<int, 64> >::initializer' from file 'build/temp.macosx-10.9-x86_64-cpython-39/Users/eunkang/Library/Caches/httpstan/4.10.1/models/jfbkbczi/model_jfbkbczi.o' means the weak symbol cannot be overridden at runtime. This was likely caused by different translation units being compiled with different visibility settings.\n",
      "ld: warning: direct access in function '___cxx_global_var_init.48' from file '/Users/eunkang/opt/anaconda3/envs/stan/lib/python3.9/site-packages/httpstan/stan_services.o' to global weak symbol 'guard variable for boost::math::detail::expm1_initializer<long double, boost::math::policies::policy<boost::math::policies::promote_float<false>, boost::math::policies::promote_double<false>, boost::math::policies::default_policy, boost::math::policies::default_policy, boost::math::policies::default_policy, boost::math::policies::default_policy, boost::math::policies::default_policy, boost::math::policies::default_policy, boost::math::policies::default_policy, boost::math::policies::default_policy, boost::math::policies::default_policy, boost::math::policies::default_policy, boost::math::policies::default_policy>, std::__1::integral_constant<int, 64> >::initializer' from file 'build/temp.macosx-10.9-x86_64-cpython-39/Users/eunkang/Library/Caches/httpstan/4.10.1/models/jfbkbczi/model_jfbkbczi.o' means the weak symbol cannot be overridden at runtime. This was likely caused by different translation units being compiled with different visibility settings.\n",
      "ld: warning: direct access in function '___cxx_global_var_init.49' from file '/Users/eunkang/opt/anaconda3/envs/stan/lib/python3.9/site-packages/httpstan/stan_services.o' to global weak symbol 'guard variable for boost::math::detail::erf_inv_initializer<double, boost::math::policies::policy<boost::math::policies::pole_error<(boost::math::policies::error_policy_type)1>, boost::math::policies::overflow_error<(boost::math::policies::error_policy_type)1>, boost::math::policies::promote_float<false>, boost::math::policies::promote_double<false>, boost::math::policies::default_policy, boost::math::policies::default_policy, boost::math::policies::default_policy, boost::math::policies::default_policy, boost::math::policies::default_policy, boost::math::policies::default_policy, boost::math::policies::default_policy, boost::math::policies::default_policy, boost::math::policies::default_policy> >::initializer' from file 'build/temp.macosx-10.9-x86_64-cpython-39/Users/eunkang/Library/Caches/httpstan/4.10.1/models/jfbkbczi/model_jfbkbczi.o' means the weak symbol cannot be overridden at runtime. This was likely caused by different translation units being compiled with different visibility settings.\n",
      "ld: warning: direct access in function '___cxx_global_var_init.49' from file '/Users/eunkang/opt/anaconda3/envs/stan/lib/python3.9/site-packages/httpstan/stan_services.o' to global weak symbol 'guard variable for boost::math::detail::erf_inv_initializer<double, boost::math::policies::policy<boost::math::policies::pole_error<(boost::math::policies::error_policy_type)1>, boost::math::policies::overflow_error<(boost::math::policies::error_policy_type)1>, boost::math::policies::promote_float<false>, boost::math::policies::promote_double<false>, boost::math::policies::default_policy, boost::math::policies::default_policy, boost::math::policies::default_policy, boost::math::policies::default_policy, boost::math::policies::default_policy, boost::math::policies::default_policy, boost::math::policies::default_policy, boost::math::policies::default_policy, boost::math::policies::default_policy> >::initializer' from file 'build/temp.macosx-10.9-x86_64-cpython-39/Users/eunkang/Library/Caches/httpstan/4.10.1/models/jfbkbczi/model_jfbkbczi.o' means the weak symbol cannot be overridden at runtime. This was likely caused by different translation units being compiled with different visibility settings.\n",
      "ld: warning: direct access in function '___cxx_global_var_init.50' from file '/Users/eunkang/opt/anaconda3/envs/stan/lib/python3.9/site-packages/httpstan/stan_services.o' to global weak symbol 'guard variable for boost::math::detail::bessel_i0_initializer<long double, std::__1::integral_constant<int, 64> >::initializer' from file 'build/temp.macosx-10.9-x86_64-cpython-39/Users/eunkang/Library/Caches/httpstan/4.10.1/models/jfbkbczi/model_jfbkbczi.o' means the weak symbol cannot be overridden at runtime. This was likely caused by different translation units being compiled with different visibility settings.\n",
      "ld: warning: direct access in function '___cxx_global_var_init.50' from file '/Users/eunkang/opt/anaconda3/envs/stan/lib/python3.9/site-packages/httpstan/stan_services.o' to global weak symbol 'guard variable for boost::math::detail::bessel_i0_initializer<long double, std::__1::integral_constant<int, 64> >::initializer' from file 'build/temp.macosx-10.9-x86_64-cpython-39/Users/eunkang/Library/Caches/httpstan/4.10.1/models/jfbkbczi/model_jfbkbczi.o' means the weak symbol cannot be overridden at runtime. This was likely caused by different translation units being compiled with different visibility settings.\n",
      "ld: warning: direct access in function '___cxx_global_var_init.51' from file '/Users/eunkang/opt/anaconda3/envs/stan/lib/python3.9/site-packages/httpstan/stan_services.o' to global weak symbol 'guard variable for boost::math::detail::bessel_i1_initializer<long double, std::__1::integral_constant<int, 64> >::initializer' from file 'build/temp.macosx-10.9-x86_64-cpython-39/Users/eunkang/Library/Caches/httpstan/4.10.1/models/jfbkbczi/model_jfbkbczi.o' means the weak symbol cannot be overridden at runtime. This was likely caused by different translation units being compiled with different visibility settings.\n",
      "ld: warning: direct access in function '___cxx_global_var_init.51' from file '/Users/eunkang/opt/anaconda3/envs/stan/lib/python3.9/site-packages/httpstan/stan_services.o' to global weak symbol 'guard variable for boost::math::detail::bessel_i1_initializer<long double, std::__1::integral_constant<int, 64> >::initializer' from file 'build/temp.macosx-10.9-x86_64-cpython-39/Users/eunkang/Library/Caches/httpstan/4.10.1/models/jfbkbczi/model_jfbkbczi.o' means the weak symbol cannot be overridden at runtime. This was likely caused by different translation units being compiled with different visibility settings.\n",
      "ld: warning: direct access in function '___cxx_global_var_init.52' from file '/Users/eunkang/opt/anaconda3/envs/stan/lib/python3.9/site-packages/httpstan/stan_services.o' to global weak symbol 'guard variable for boost::math::detail::owens_t_initializer<double, boost::math::policies::policy<boost::math::policies::default_policy, boost::math::policies::default_policy, boost::math::policies::default_policy, boost::math::policies::default_policy, boost::math::policies::default_policy, boost::math::policies::default_policy, boost::math::policies::default_policy, boost::math::policies::default_policy, boost::math::policies::default_policy, boost::math::policies::default_policy, boost::math::policies::default_policy, boost::math::policies::default_policy, boost::math::policies::default_policy>, std::__1::integral_constant<int, 64> >::initializer' from file 'build/temp.macosx-10.9-x86_64-cpython-39/Users/eunkang/Library/Caches/httpstan/4.10.1/models/jfbkbczi/model_jfbkbczi.o' means the weak symbol cannot be overridden at runtime. This was likely caused by different translation units being compiled with different visibility settings.\n",
      "ld: warning: direct access in function '___cxx_global_var_init.52' from file '/Users/eunkang/opt/anaconda3/envs/stan/lib/python3.9/site-packages/httpstan/stan_services.o' to global weak symbol 'guard variable for boost::math::detail::owens_t_initializer<double, boost::math::policies::policy<boost::math::policies::default_policy, boost::math::policies::default_policy, boost::math::policies::default_policy, boost::math::policies::default_policy, boost::math::policies::default_policy, boost::math::policies::default_policy, boost::math::policies::default_policy, boost::math::policies::default_policy, boost::math::policies::default_policy, boost::math::policies::default_policy, boost::math::policies::default_policy, boost::math::policies::default_policy, boost::math::policies::default_policy>, std::__1::integral_constant<int, 64> >::initializer' from file 'build/temp.macosx-10.9-x86_64-cpython-39/Users/eunkang/Library/Caches/httpstan/4.10.1/models/jfbkbczi/model_jfbkbczi.o' means the weak symbol cannot be overridden at runtime. This was likely caused by different translation units being compiled with different visibility settings.\n",
      "ld: warning: direct access in function '___cxx_global_var_init.53' from file '/Users/eunkang/opt/anaconda3/envs/stan/lib/python3.9/site-packages/httpstan/stan_services.o' to global weak symbol 'guard variable for boost::math::detail::erf_inv_initializer<long double, boost::math::policies::policy<boost::math::policies::promote_float<false>, boost::math::policies::promote_double<false>, boost::math::policies::default_policy, boost::math::policies::default_policy, boost::math::policies::default_policy, boost::math::policies::default_policy, boost::math::policies::default_policy, boost::math::policies::default_policy, boost::math::policies::default_policy, boost::math::policies::default_policy, boost::math::policies::default_policy, boost::math::policies::default_policy, boost::math::policies::default_policy> >::initializer' from file 'build/temp.macosx-10.9-x86_64-cpython-39/Users/eunkang/Library/Caches/httpstan/4.10.1/models/jfbkbczi/model_jfbkbczi.o' means the weak symbol cannot be overridden at runtime. This was likely caused by different translation units being compiled with different visibility settings.\n",
      "ld: warning: direct access in function '___cxx_global_var_init.53' from file '/Users/eunkang/opt/anaconda3/envs/stan/lib/python3.9/site-packages/httpstan/stan_services.o' to global weak symbol 'guard variable for boost::math::detail::erf_inv_initializer<long double, boost::math::policies::policy<boost::math::policies::promote_float<false>, boost::math::policies::promote_double<false>, boost::math::policies::default_policy, boost::math::policies::default_policy, boost::math::policies::default_policy, boost::math::policies::default_policy, boost::math::policies::default_policy, boost::math::policies::default_policy, boost::math::policies::default_policy, boost::math::policies::default_policy, boost::math::policies::default_policy, boost::math::policies::default_policy, boost::math::policies::default_policy> >::initializer' from file 'build/temp.macosx-10.9-x86_64-cpython-39/Users/eunkang/Library/Caches/httpstan/4.10.1/models/jfbkbczi/model_jfbkbczi.o' means the weak symbol cannot be overridden at runtime. This was likely caused by different translation units being compiled with different visibility settings.\n",
      "ld: warning: direct access in function '___cxx_global_var_init.54' from file '/Users/eunkang/opt/anaconda3/envs/stan/lib/python3.9/site-packages/httpstan/stan_services.o' to global weak symbol 'guard variable for boost::math::detail::bessel_k0_initializer<long double, std::__1::integral_constant<int, 64> >::initializer' from file 'build/temp.macosx-10.9-x86_64-cpython-39/Users/eunkang/Library/Caches/httpstan/4.10.1/models/jfbkbczi/model_jfbkbczi.o' means the weak symbol cannot be overridden at runtime. This was likely caused by different translation units being compiled with different visibility settings.\n",
      "ld: warning: direct access in function '___cxx_global_var_init.54' from file '/Users/eunkang/opt/anaconda3/envs/stan/lib/python3.9/site-packages/httpstan/stan_services.o' to global weak symbol 'guard variable for boost::math::detail::bessel_k0_initializer<long double, std::__1::integral_constant<int, 64> >::initializer' from file 'build/temp.macosx-10.9-x86_64-cpython-39/Users/eunkang/Library/Caches/httpstan/4.10.1/models/jfbkbczi/model_jfbkbczi.o' means the weak symbol cannot be overridden at runtime. This was likely caused by different translation units being compiled with different visibility settings.\n",
      "ld: warning: direct access in function '___cxx_global_var_init.55' from file '/Users/eunkang/opt/anaconda3/envs/stan/lib/python3.9/site-packages/httpstan/stan_services.o' to global weak symbol 'guard variable for boost::math::detail::bessel_k1_initializer<long double, std::__1::integral_constant<int, 64> >::initializer' from file 'build/temp.macosx-10.9-x86_64-cpython-39/Users/eunkang/Library/Caches/httpstan/4.10.1/models/jfbkbczi/model_jfbkbczi.o' means the weak symbol cannot be overridden at runtime. This was likely caused by different translation units being compiled with different visibility settings.\n",
      "ld: warning: direct access in function '___cxx_global_var_init.55' from file '/Users/eunkang/opt/anaconda3/envs/stan/lib/python3.9/site-packages/httpstan/stan_services.o' to global weak symbol 'guard variable for boost::math::detail::bessel_k1_initializer<long double, std::__1::integral_constant<int, 64> >::initializer' from file 'build/temp.macosx-10.9-x86_64-cpython-39/Users/eunkang/Library/Caches/httpstan/4.10.1/models/jfbkbczi/model_jfbkbczi.o' means the weak symbol cannot be overridden at runtime. This was likely caused by different translation units being compiled with different visibility settings.\n",
      "\u001b[32mBuilding:\u001b[0m 12.4s, done.\n",
      "\u001b[36mMessages from \u001b[0m\u001b[36;1mstanc\u001b[0m\u001b[36m:\u001b[0m\n",
      "Warning in '/var/folders/37/wj6jtm190bz4csmcwzcscp440000gn/T/httpstan_8iy9vtnv/model_jfbkbczi.stan', line 7, column 14: Declaration\n",
      "    of arrays by placing brackets after a variable name is deprecated and\n",
      "    will be removed in Stan 2.33.0. Instead use the array keyword before the\n",
      "    type. This can be changed automatically using the auto-format flag to\n",
      "    stanc\n",
      "Warning in '/var/folders/37/wj6jtm190bz4csmcwzcscp440000gn/T/httpstan_8iy9vtnv/model_jfbkbczi.stan', line 20, column 28: Argument\n",
      "    32 suggests there may be parameters that are not unit scale; consider\n",
      "    rescaling with a multiplier (see manual section 22.12).\n",
      "Warning in '/var/folders/37/wj6jtm190bz4csmcwzcscp440000gn/T/httpstan_8iy9vtnv/model_jfbkbczi.stan', line 19, column 31: Argument\n",
      "    19 suggests there may be parameters that are not unit scale; consider\n",
      "    rescaling with a multiplier (see manual section 22.12).\n",
      "Warning in '/var/folders/37/wj6jtm190bz4csmcwzcscp440000gn/T/httpstan_8iy9vtnv/model_jfbkbczi.stan', line 19, column 28: Argument\n",
      "    69 suggests there may be parameters that are not unit scale; consider\n",
      "    rescaling with a multiplier (see manual section 22.12).\n"
     ]
    }
   ],
   "source": [
    "model = stan.build(stan_code, data= data)"
   ]
  },
  {
   "cell_type": "code",
   "execution_count": 69,
   "id": "8c0f8f86-8900-4586-aec7-d916a90a8208",
   "metadata": {},
   "outputs": [
    {
     "name": "stderr",
     "output_type": "stream",
     "text": [
      "\u001b[36mSampling:\u001b[0m   0%\n",
      "\u001b[1A\u001b[0J\u001b[36mSampling:\u001b[0m   0% (1/8000)\n",
      "\u001b[1A\u001b[0J\u001b[36mSampling:\u001b[0m   0% (2/8000)\n",
      "\u001b[1A\u001b[0J\u001b[36mSampling:\u001b[0m   3% (202/8000)\n",
      "\u001b[1A\u001b[0J\u001b[36mSampling:\u001b[0m   4% (302/8000)\n",
      "\u001b[1A\u001b[0J\u001b[36mSampling:\u001b[0m   5% (401/8000)\n",
      "\u001b[1A\u001b[0J\u001b[36mSampling:\u001b[0m   6% (500/8000)\n",
      "\u001b[1A\u001b[0J\u001b[36mSampling:\u001b[0m   8% (600/8000)\n",
      "\u001b[1A\u001b[0J\u001b[36mSampling:\u001b[0m   9% (700/8000)\n",
      "\u001b[1A\u001b[0J\u001b[36mSampling:\u001b[0m  10% (800/8000)\n",
      "\u001b[1A\u001b[0J\u001b[36mSampling:\u001b[0m  11% (900/8000)\n",
      "\u001b[1A\u001b[0J\u001b[36mSampling:\u001b[0m  12% (1000/8000)\n",
      "\u001b[1A\u001b[0J\u001b[36mSampling:\u001b[0m  14% (1100/8000)\n",
      "\u001b[1A\u001b[0J\u001b[36mSampling:\u001b[0m  15% (1200/8000)\n",
      "\u001b[1A\u001b[0J\u001b[36mSampling:\u001b[0m  16% (1300/8000)\n",
      "\u001b[1A\u001b[0J\u001b[36mSampling:\u001b[0m  18% (1400/8000)\n",
      "\u001b[1A\u001b[0J\u001b[36mSampling:\u001b[0m  19% (1500/8000)\n",
      "\u001b[1A\u001b[0J\u001b[36mSampling:\u001b[0m  20% (1600/8000)\n",
      "\u001b[1A\u001b[0J\u001b[36mSampling:\u001b[0m  21% (1700/8000)\n",
      "\u001b[1A\u001b[0J\u001b[36mSampling:\u001b[0m  22% (1800/8000)\n",
      "\u001b[1A\u001b[0J\u001b[36mSampling:\u001b[0m  24% (1900/8000)\n",
      "\u001b[1A\u001b[0J\u001b[36mSampling:\u001b[0m  25% (2000/8000)\n",
      "\u001b[1A\u001b[0J\u001b[36mSampling:\u001b[0m  26% (2100/8000)\n",
      "\u001b[1A\u001b[0J\u001b[36mSampling:\u001b[0m  28% (2200/8000)\n",
      "\u001b[1A\u001b[0J\u001b[36mSampling:\u001b[0m  29% (2300/8000)\n",
      "\u001b[1A\u001b[0J\u001b[36mSampling:\u001b[0m  30% (2400/8000)\n",
      "\u001b[1A\u001b[0J\u001b[36mSampling:\u001b[0m  31% (2500/8000)\n",
      "\u001b[1A\u001b[0J\u001b[36mSampling:\u001b[0m  32% (2600/8000)\n",
      "\u001b[1A\u001b[0J\u001b[36mSampling:\u001b[0m  34% (2700/8000)\n",
      "\u001b[1A\u001b[0J\u001b[36mSampling:\u001b[0m  35% (2800/8000)\n",
      "\u001b[1A\u001b[0J\u001b[36mSampling:\u001b[0m  36% (2900/8000)\n",
      "\u001b[1A\u001b[0J\u001b[36mSampling:\u001b[0m  38% (3000/8000)\n",
      "\u001b[1A\u001b[0J\u001b[36mSampling:\u001b[0m  39% (3100/8000)\n",
      "\u001b[1A\u001b[0J\u001b[36mSampling:\u001b[0m  40% (3200/8000)\n",
      "\u001b[1A\u001b[0J\u001b[36mSampling:\u001b[0m  41% (3300/8000)\n",
      "\u001b[1A\u001b[0J\u001b[36mSampling:\u001b[0m  42% (3400/8000)\n",
      "\u001b[1A\u001b[0J\u001b[36mSampling:\u001b[0m  44% (3500/8000)\n",
      "\u001b[1A\u001b[0J\u001b[36mSampling:\u001b[0m  45% (3601/8000)\n",
      "\u001b[1A\u001b[0J\u001b[36mSampling:\u001b[0m  46% (3701/8000)\n",
      "\u001b[1A\u001b[0J\u001b[36mSampling:\u001b[0m  48% (3802/8000)\n",
      "\u001b[1A\u001b[0J\u001b[36mSampling:\u001b[0m  49% (3903/8000)\n",
      "\u001b[1A\u001b[0J\u001b[36mSampling:\u001b[0m  50% (4004/8000)\n",
      "\u001b[1A\u001b[0J\u001b[36mSampling:\u001b[0m  51% (4103/8000)\n",
      "\u001b[1A\u001b[0J\u001b[36mSampling:\u001b[0m  53% (4202/8000)\n",
      "\u001b[1A\u001b[0J\u001b[36mSampling:\u001b[0m  54% (4301/8000)\n",
      "\u001b[1A\u001b[0J\u001b[36mSampling:\u001b[0m  55% (4400/8000)\n",
      "\u001b[1A\u001b[0J\u001b[36mSampling:\u001b[0m  56% (4500/8000)\n",
      "\u001b[1A\u001b[0J\u001b[36mSampling:\u001b[0m  58% (4600/8000)\n",
      "\u001b[1A\u001b[0J\u001b[36mSampling:\u001b[0m  59% (4700/8000)\n",
      "\u001b[1A\u001b[0J\u001b[36mSampling:\u001b[0m  60% (4800/8000)\n",
      "\u001b[1A\u001b[0J\u001b[36mSampling:\u001b[0m  61% (4900/8000)\n",
      "\u001b[1A\u001b[0J\u001b[36mSampling:\u001b[0m  62% (5000/8000)\n",
      "\u001b[1A\u001b[0J\u001b[36mSampling:\u001b[0m  64% (5100/8000)\n",
      "\u001b[1A\u001b[0J\u001b[36mSampling:\u001b[0m  65% (5200/8000)\n",
      "\u001b[1A\u001b[0J\u001b[36mSampling:\u001b[0m  66% (5300/8000)\n",
      "\u001b[1A\u001b[0J\u001b[36mSampling:\u001b[0m  68% (5400/8000)\n",
      "\u001b[1A\u001b[0J\u001b[36mSampling:\u001b[0m  69% (5500/8000)\n",
      "\u001b[1A\u001b[0J\u001b[36mSampling:\u001b[0m  70% (5600/8000)\n",
      "\u001b[1A\u001b[0J\u001b[36mSampling:\u001b[0m  71% (5700/8000)\n",
      "\u001b[1A\u001b[0J\u001b[36mSampling:\u001b[0m  72% (5800/8000)\n",
      "\u001b[1A\u001b[0J\u001b[36mSampling:\u001b[0m  74% (5900/8000)\n",
      "\u001b[1A\u001b[0J\u001b[36mSampling:\u001b[0m  75% (6000/8000)\n",
      "\u001b[1A\u001b[0J\u001b[36mSampling:\u001b[0m  76% (6100/8000)\n",
      "\u001b[1A\u001b[0J\u001b[36mSampling:\u001b[0m  78% (6200/8000)\n",
      "\u001b[1A\u001b[0J\u001b[36mSampling:\u001b[0m  79% (6300/8000)\n",
      "\u001b[1A\u001b[0J\u001b[36mSampling:\u001b[0m  80% (6400/8000)\n",
      "\u001b[1A\u001b[0J\u001b[36mSampling:\u001b[0m  81% (6500/8000)\n",
      "\u001b[1A\u001b[0J\u001b[36mSampling:\u001b[0m  82% (6600/8000)\n",
      "\u001b[1A\u001b[0J\u001b[36mSampling:\u001b[0m  84% (6700/8000)\n",
      "\u001b[1A\u001b[0J\u001b[36mSampling:\u001b[0m  85% (6800/8000)\n",
      "\u001b[1A\u001b[0J\u001b[36mSampling:\u001b[0m  86% (6900/8000)\n",
      "\u001b[1A\u001b[0J\u001b[36mSampling:\u001b[0m  88% (7000/8000)\n",
      "\u001b[1A\u001b[0J\u001b[36mSampling:\u001b[0m  89% (7100/8000)\n",
      "\u001b[1A\u001b[0J\u001b[36mSampling:\u001b[0m  90% (7200/8000)\n",
      "\u001b[1A\u001b[0J\u001b[36mSampling:\u001b[0m  91% (7300/8000)\n",
      "\u001b[1A\u001b[0J\u001b[36mSampling:\u001b[0m  92% (7400/8000)\n",
      "\u001b[1A\u001b[0J\u001b[36mSampling:\u001b[0m  94% (7500/8000)\n",
      "\u001b[1A\u001b[0J\u001b[36mSampling:\u001b[0m  95% (7600/8000)\n",
      "\u001b[1A\u001b[0J\u001b[36mSampling:\u001b[0m  96% (7700/8000)\n",
      "\u001b[1A\u001b[0J\u001b[36mSampling:\u001b[0m  98% (7800/8000)\n",
      "\u001b[1A\u001b[0J\u001b[36mSampling:\u001b[0m  99% (7900/8000)\n",
      "\u001b[1A\u001b[0J\u001b[36mSampling:\u001b[0m 100% (8000/8000)\n",
      "\u001b[1A\u001b[0J\u001b[32mSampling:\u001b[0m 100% (8000/8000), done.\n",
      "\u001b[36mMessages received during sampling:\u001b[0m\n",
      "  Gradient evaluation took 0.000359 seconds\n",
      "  1000 transitions using 10 leapfrog steps per transition would take 3.59 seconds.\n",
      "  Adjust your expectations accordingly!\n",
      "  Gradient evaluation took 0.000176 seconds\n",
      "  1000 transitions using 10 leapfrog steps per transition would take 1.76 seconds.\n",
      "  Adjust your expectations accordingly!\n",
      "  Gradient evaluation took 0.000164 seconds\n",
      "  1000 transitions using 10 leapfrog steps per transition would take 1.64 seconds.\n",
      "  Adjust your expectations accordingly!\n",
      "  Gradient evaluation took 0.000168 seconds\n",
      "  1000 transitions using 10 leapfrog steps per transition would take 1.68 seconds.\n",
      "  Adjust your expectations accordingly!\n"
     ]
    }
   ],
   "source": [
    "fit = model.sample(num_chains=4, num_samples=1000)"
   ]
  },
  {
   "cell_type": "code",
   "execution_count": 70,
   "id": "065a3b05-9752-471e-8a88-9a42caf497d0",
   "metadata": {},
   "outputs": [],
   "source": [
    "df = fit.to_frame()"
   ]
  },
  {
   "cell_type": "code",
   "execution_count": 73,
   "id": "ef875c40-74bf-4a07-92b8-edf37f8ef592",
   "metadata": {},
   "outputs": [
    {
     "data": {
      "text/html": [
       "<div>\n",
       "<style scoped>\n",
       "    .dataframe tbody tr th:only-of-type {\n",
       "        vertical-align: middle;\n",
       "    }\n",
       "\n",
       "    .dataframe tbody tr th {\n",
       "        vertical-align: top;\n",
       "    }\n",
       "\n",
       "    .dataframe thead th {\n",
       "        text-align: right;\n",
       "    }\n",
       "</style>\n",
       "<table border=\"1\" class=\"dataframe\">\n",
       "  <thead>\n",
       "    <tr style=\"text-align: right;\">\n",
       "      <th>parameters</th>\n",
       "      <th>lp__</th>\n",
       "      <th>accept_stat__</th>\n",
       "      <th>stepsize__</th>\n",
       "      <th>treedepth__</th>\n",
       "      <th>n_leapfrog__</th>\n",
       "      <th>divergent__</th>\n",
       "      <th>energy__</th>\n",
       "      <th>mu_A</th>\n",
       "      <th>mu_B</th>\n",
       "      <th>sigma</th>\n",
       "    </tr>\n",
       "    <tr>\n",
       "      <th>draws</th>\n",
       "      <th></th>\n",
       "      <th></th>\n",
       "      <th></th>\n",
       "      <th></th>\n",
       "      <th></th>\n",
       "      <th></th>\n",
       "      <th></th>\n",
       "      <th></th>\n",
       "      <th></th>\n",
       "      <th></th>\n",
       "    </tr>\n",
       "  </thead>\n",
       "  <tbody>\n",
       "    <tr>\n",
       "      <th>0</th>\n",
       "      <td>358.324198</td>\n",
       "      <td>0.713757</td>\n",
       "      <td>0.005151</td>\n",
       "      <td>8.0</td>\n",
       "      <td>271.0</td>\n",
       "      <td>0.0</td>\n",
       "      <td>-351.204184</td>\n",
       "      <td>0.239576</td>\n",
       "      <td>0.241756</td>\n",
       "      <td>0.480487</td>\n",
       "    </tr>\n",
       "    <tr>\n",
       "      <th>1</th>\n",
       "      <td>356.448979</td>\n",
       "      <td>0.765599</td>\n",
       "      <td>0.005722</td>\n",
       "      <td>2.0</td>\n",
       "      <td>3.0</td>\n",
       "      <td>0.0</td>\n",
       "      <td>-354.960043</td>\n",
       "      <td>0.290586</td>\n",
       "      <td>0.291922</td>\n",
       "      <td>0.456716</td>\n",
       "    </tr>\n",
       "    <tr>\n",
       "      <th>2</th>\n",
       "      <td>357.725643</td>\n",
       "      <td>0.925468</td>\n",
       "      <td>0.005322</td>\n",
       "      <td>7.0</td>\n",
       "      <td>135.0</td>\n",
       "      <td>0.0</td>\n",
       "      <td>-356.372936</td>\n",
       "      <td>0.298975</td>\n",
       "      <td>0.299724</td>\n",
       "      <td>0.478445</td>\n",
       "    </tr>\n",
       "    <tr>\n",
       "      <th>3</th>\n",
       "      <td>356.671602</td>\n",
       "      <td>0.963994</td>\n",
       "      <td>0.005680</td>\n",
       "      <td>9.0</td>\n",
       "      <td>1023.0</td>\n",
       "      <td>0.0</td>\n",
       "      <td>-354.437930</td>\n",
       "      <td>0.274076</td>\n",
       "      <td>0.275413</td>\n",
       "      <td>0.457151</td>\n",
       "    </tr>\n",
       "    <tr>\n",
       "      <th>4</th>\n",
       "      <td>357.779428</td>\n",
       "      <td>0.996123</td>\n",
       "      <td>0.005151</td>\n",
       "      <td>7.0</td>\n",
       "      <td>247.0</td>\n",
       "      <td>0.0</td>\n",
       "      <td>-356.871456</td>\n",
       "      <td>0.230651</td>\n",
       "      <td>0.232944</td>\n",
       "      <td>0.483177</td>\n",
       "    </tr>\n",
       "  </tbody>\n",
       "</table>\n",
       "</div>"
      ],
      "text/plain": [
       "parameters        lp__  accept_stat__  stepsize__  treedepth__  n_leapfrog__  \\\n",
       "draws                                                                          \n",
       "0           358.324198       0.713757    0.005151          8.0         271.0   \n",
       "1           356.448979       0.765599    0.005722          2.0           3.0   \n",
       "2           357.725643       0.925468    0.005322          7.0         135.0   \n",
       "3           356.671602       0.963994    0.005680          9.0        1023.0   \n",
       "4           357.779428       0.996123    0.005151          7.0         247.0   \n",
       "\n",
       "parameters  divergent__    energy__      mu_A      mu_B     sigma  \n",
       "draws                                                              \n",
       "0                   0.0 -351.204184  0.239576  0.241756  0.480487  \n",
       "1                   0.0 -354.960043  0.290586  0.291922  0.456716  \n",
       "2                   0.0 -356.372936  0.298975  0.299724  0.478445  \n",
       "3                   0.0 -354.437930  0.274076  0.275413  0.457151  \n",
       "4                   0.0 -356.871456  0.230651  0.232944  0.483177  "
      ]
     },
     "execution_count": 73,
     "metadata": {},
     "output_type": "execute_result"
    }
   ],
   "source": [
    "df.head()"
   ]
  },
  {
   "cell_type": "markdown",
   "id": "afe22727-f65a-426b-8b53-b7d81c973bf3",
   "metadata": {},
   "source": [
    "## 3. ploting"
   ]
  },
  {
   "cell_type": "code",
   "execution_count": 80,
   "id": "1a0b1cfd-381a-414f-ac9a-180c25d54987",
   "metadata": {},
   "outputs": [],
   "source": [
    "prior_samples = df[\"mu_A\"]  # array with shape (8, 4000)\n",
    "posterior_samples = df[\"mu_B\"]  # array with shape (8, 4000)"
   ]
  },
  {
   "cell_type": "code",
   "execution_count": 1,
   "id": "fe380c74-026d-4a3a-b724-5125fd7209fe",
   "metadata": {},
   "outputs": [
    {
     "ename": "NameError",
     "evalue": "name 'plt' is not defined",
     "output_type": "error",
     "traceback": [
      "\u001b[0;31m---------------------------------------------------------------------------\u001b[0m",
      "\u001b[0;31mNameError\u001b[0m                                 Traceback (most recent call last)",
      "Cell \u001b[0;32mIn[1], line 1\u001b[0m\n\u001b[0;32m----> 1\u001b[0m \u001b[43mplt\u001b[49m\u001b[38;5;241m.\u001b[39mplot(prior_samples, label\u001b[38;5;241m=\u001b[39m\u001b[38;5;124m'\u001b[39m\u001b[38;5;124mPrior\u001b[39m\u001b[38;5;124m'\u001b[39m, color\u001b[38;5;241m=\u001b[39m\u001b[38;5;124m'\u001b[39m\u001b[38;5;124mblue\u001b[39m\u001b[38;5;124m'\u001b[39m)\n\u001b[1;32m      2\u001b[0m plt\u001b[38;5;241m.\u001b[39mtitle(\u001b[38;5;124m'\u001b[39m\u001b[38;5;124mPrior Distribution of sigma\u001b[39m\u001b[38;5;124m'\u001b[39m)\n\u001b[1;32m      3\u001b[0m plt\u001b[38;5;241m.\u001b[39mxlabel(\u001b[38;5;124m'\u001b[39m\u001b[38;5;124msigma\u001b[39m\u001b[38;5;124m'\u001b[39m)\n",
      "\u001b[0;31mNameError\u001b[0m: name 'plt' is not defined"
     ]
    }
   ],
   "source": [
    "\n",
    "plt.plot(prior_samples, label='Prior', color='blue')\n",
    "plt.title('Prior Distribution of sigma')\n",
    "plt.xlabel('sigma')\n",
    "plt.ylabel('Density')\n",
    "plt.legend()\n",
    "\n",
    "posterior_samples.plot.hist(bins=30, density=True, alpha=0.5)\n",
    "plt.title('..')\n",
    "plt.xlabel('beta_pregnancies')\n",
    "plt.ylabel('Density')\n",
    "plt.show()"
   ]
  },
  {
   "cell_type": "markdown",
   "id": "96bbde21-496d-4ea0-9f1a-9e0310a431d1",
   "metadata": {},
   "source": [
    "## 0. delete cache of model"
   ]
  },
  {
   "cell_type": "code",
   "execution_count": 53,
   "id": "8de978bb-f43b-4823-ba52-4c31e2ef0e9c",
   "metadata": {},
   "outputs": [],
   "source": [
    "# import the relevant modules\n",
    "import shutil\n",
    "import httpstan.models\n",
    "import httpstan.cache"
   ]
  },
  {
   "cell_type": "code",
   "execution_count": 66,
   "id": "1ca9b559-6644-4554-b746-de902c70a079",
   "metadata": {},
   "outputs": [
    {
     "data": {
      "text/plain": [
       "['models/v3juwcaz', 'models/paf3dyr2', 'models/jfbkbczi']"
      ]
     },
     "execution_count": 66,
     "metadata": {},
     "output_type": "execute_result"
    }
   ],
   "source": [
    "httpstan.cache.list_model_names()"
   ]
  },
  {
   "cell_type": "code",
   "execution_count": 67,
   "id": "275c544f-f299-459e-b6a7-25bc8d46505d",
   "metadata": {},
   "outputs": [],
   "source": [
    "httpstan.cache.delete_model_directory('models/jfbkbczi') ## add the model pointer you want to remove"
   ]
  },
  {
   "cell_type": "code",
   "execution_count": null,
   "id": "f918df04-e459-4900-a3ad-13b6d00584f0",
   "metadata": {},
   "outputs": [],
   "source": []
  }
 ],
 "metadata": {
  "kernelspec": {
   "display_name": "Python 3 (ipykernel)",
   "language": "python",
   "name": "python3"
  },
  "language_info": {
   "codemirror_mode": {
    "name": "ipython",
    "version": 3
   },
   "file_extension": ".py",
   "mimetype": "text/x-python",
   "name": "python",
   "nbconvert_exporter": "python",
   "pygments_lexer": "ipython3",
   "version": "3.9.18"
  }
 },
 "nbformat": 4,
 "nbformat_minor": 5
}
